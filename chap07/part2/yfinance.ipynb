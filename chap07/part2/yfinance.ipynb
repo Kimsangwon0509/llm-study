{
 "cells": [
  {
   "cell_type": "code",
   "id": "initial_id",
   "metadata": {
    "collapsed": true,
    "ExecuteTime": {
     "end_time": "2025-07-24T08:21:41.750722Z",
     "start_time": "2025-07-24T08:21:41.346363Z"
    }
   },
   "source": [
    "import yfinance as yf\n",
    "from rich.jupyter import display\n",
    "\n",
    "msft = yf.Ticker('MSFT')   \n",
    "\n",
    "print(msft.info)"
   ],
   "outputs": [
    {
     "name": "stdout",
     "output_type": "stream",
     "text": [
      "{'address1': 'One Microsoft Way', 'city': 'Redmond', 'state': 'WA', 'zip': '98052-6399', 'country': 'United States', 'phone': '425 882 8080', 'website': 'https://www.microsoft.com', 'industry': 'Software - Infrastructure', 'industryKey': 'software-infrastructure', 'industryDisp': 'Software - Infrastructure', 'sector': 'Technology', 'sectorKey': 'technology', 'sectorDisp': 'Technology', 'longBusinessSummary': 'Microsoft Corporation develops and supports software, services, devices and solutions worldwide. The Productivity and Business Processes segment offers office, exchange, SharePoint, Microsoft Teams, office 365 Security and Compliance, Microsoft viva, and Microsoft 365 copilot; and office consumer services, such as Microsoft 365 consumer subscriptions, Office licensed on-premises, and other office services. This segment also provides LinkedIn; and dynamics business solutions, including Dynamics 365, a set of intelligent, cloud-based applications across ERP, CRM, power apps, and power automate; and on-premises ERP and CRM applications. The Intelligent Cloud segment offers server products and cloud services, such as azure and other cloud services; SQL and windows server, visual studio, system center, and related client access licenses, as well as nuance and GitHub; and enterprise services including enterprise support services, industry solutions, and nuance professional services. The More Personal Computing segment offers Windows, including windows OEM licensing and other non-volume licensing of the Windows operating system; Windows commercial comprising volume licensing of the Windows operating system, windows cloud services, and other Windows commercial offerings; patent licensing; and windows Internet of Things; and devices, such as surface, HoloLens, and PC accessories. Additionally, this segment provides gaming, which includes Xbox hardware and content, and first- and third-party content; Xbox game pass and other subscriptions, cloud gaming, advertising, third-party disc royalties, and other cloud services; search and news advertising, which includes Bing, Microsoft News and Edge, and third-party affiliates; and nature-based carbon removal credits. The company sells its products through OEMs, distributors, and resellers; and directly through digital marketplaces, online, and retail stores. The company was founded in 1975 and is headquartered in Redmond, Washington.', 'fullTimeEmployees': 228000, 'companyOfficers': [{'maxAge': 1, 'name': 'Mr. Satya  Nadella', 'age': 57, 'title': 'Chairman & CEO', 'yearBorn': 1967, 'fiscalYear': 2024, 'totalPay': 7869791, 'exercisedValue': 0, 'unexercisedValue': 0}, {'maxAge': 1, 'name': 'Mr. Bradford L. Smith LCA', 'age': 65, 'title': 'President & Vice Chairman', 'yearBorn': 1959, 'fiscalYear': 2024, 'totalPay': 4755618, 'exercisedValue': 0, 'unexercisedValue': 0}, {'maxAge': 1, 'name': 'Ms. Amy E. Hood', 'age': 52, 'title': 'Executive VP & CFO', 'yearBorn': 1972, 'fiscalYear': 2024, 'totalPay': 4704250, 'exercisedValue': 0, 'unexercisedValue': 0}, {'maxAge': 1, 'name': 'Mr. Judson B. Althoff', 'age': 50, 'title': 'Executive VP & Chief Commercial Officer', 'yearBorn': 1974, 'fiscalYear': 2024, 'totalPay': 4534974, 'exercisedValue': 0, 'unexercisedValue': 0}, {'maxAge': 1, 'name': 'Ms. Carolina  Dybeck Happe', 'age': 52, 'title': 'Executive VP & COO', 'yearBorn': 1972, 'fiscalYear': 2024, 'exercisedValue': 0, 'unexercisedValue': 0}, {'maxAge': 1, 'name': 'Ms. Alice L. Jolla', 'age': 58, 'title': 'Corporate VP & Chief Accounting Officer', 'yearBorn': 1966, 'fiscalYear': 2024, 'exercisedValue': 0, 'unexercisedValue': 0}, {'maxAge': 1, 'name': 'Jonathan  Neilson', 'title': 'Vice President of Investor Relations', 'fiscalYear': 2024, 'exercisedValue': 0, 'unexercisedValue': 0}, {'maxAge': 1, 'name': 'Mr. Hossein  Nowbar', 'title': 'Chief Legal Officer', 'fiscalYear': 2024, 'exercisedValue': 0, 'unexercisedValue': 0}, {'maxAge': 1, 'name': 'Mr. Frank X. Shaw', 'title': 'Chief Communications Officer', 'fiscalYear': 2024, 'exercisedValue': 0, 'unexercisedValue': 0}, {'maxAge': 1, 'name': 'Mr. Takeshi  Numoto', 'age': 53, 'title': 'Executive VP & Chief Marketing Officer', 'yearBorn': 1971, 'fiscalYear': 2024, 'exercisedValue': 0, 'unexercisedValue': 0}], 'auditRisk': 9, 'boardRisk': 5, 'compensationRisk': 4, 'shareHolderRightsRisk': 2, 'overallRisk': 3, 'governanceEpochDate': 1751328000, 'compensationAsOfEpochDate': 1735603200, 'irWebsite': 'http://www.microsoft.com/investor/default.aspx', 'executiveTeam': [], 'maxAge': 86400, 'priceHint': 2, 'previousClose': 505.27, 'open': 506.5, 'dayLow': 500.7, 'dayHigh': 506.7501, 'regularMarketPreviousClose': 505.27, 'regularMarketOpen': 506.5, 'regularMarketDayLow': 500.7, 'regularMarketDayHigh': 506.7501, 'dividendRate': 3.32, 'dividendYield': 0.66, 'exDividendDate': 1755734400, 'payoutRatio': 0.2442, 'fiveYearAvgDividendYield': 0.83, 'beta': 1.033, 'trailingPE': 39.06332, 'forwardPE': 33.83746, 'volume': 16311784, 'regularMarketVolume': 16311784, 'averageVolume': 19968052, 'averageVolume10days': 15812850, 'averageDailyVolume10Day': 15812850, 'bid': 505.12, 'ask': 515.0, 'bidSize': 1, 'askSize': 1, 'marketCap': 3759899148288, 'fiftyTwoWeekLow': 344.79, 'fiftyTwoWeekHigh': 514.64, 'priceToSalesTrailing12Months': 13.925036, 'fiftyDayAverage': 479.6702, 'twoHundredDayAverage': 429.26016, 'trailingAnnualDividendRate': 3.24, 'trailingAnnualDividendYield': 0.0064124134, 'currency': 'USD', 'tradeable': False, 'enterpriseValue': 3785301950464, 'profitMargins': 0.35789, 'floatShares': 7421915327, 'sharesOutstanding': 7432540160, 'sharesShort': 56857827, 'sharesShortPriorMonth': 58182215, 'sharesShortPreviousMonthDate': 1748563200, 'dateShortInterest': 1751241600, 'sharesPercentSharesOut': 0.0077, 'heldPercentInsiders': 0.00063, 'heldPercentInstitutions': 0.74666, 'shortRatio': 2.74, 'shortPercentOfFloat': 0.0077, 'impliedSharesOutstanding': 7432540160, 'bookValue': 43.3, 'priceToBook': 11.68291, 'lastFiscalYearEnd': 1719705600, 'nextFiscalYearEnd': 1751241600, 'mostRecentQuarter': 1743379200, 'earningsQuarterlyGrowth': 0.177, 'netIncomeToCommon': 96635002880, 'trailingEps': 12.95, 'forwardEps': 14.95, 'lastSplitFactor': '2:1', 'lastSplitDate': 1045526400, 'enterpriseToRevenue': 14.019, 'enterpriseToEbitda': 25.375, '52WeekChange': 0.20905828, 'SandP52WeekChange': 0.17774606, 'lastDividendValue': 0.83, 'lastDividendDate': 1747267200, 'quoteType': 'EQUITY', 'currentPrice': 505.87, 'targetHighPrice': 700.0, 'targetLowPrice': 432.0, 'targetMeanPrice': 543.0812, 'targetMedianPrice': 530.0, 'recommendationMean': 1.38983, 'recommendationKey': 'strong_buy', 'numberOfAnalystOpinions': 51, 'totalCash': 79617998848, 'totalCashPerShare': 10.712, 'ebitda': 149172994048, 'totalDebt': 105018998784, 'quickRatio': 1.244, 'currentRatio': 1.372, 'totalRevenue': 270010007552, 'debtToEquity': 32.626, 'revenuePerShare': 36.325, 'returnOnAssets': 0.14581999, 'returnOnEquity': 0.3361, 'grossProfits': 186509000704, 'freeCashflow': 54817001472, 'operatingCashflow': 130710003712, 'earningsGrowth': 0.177, 'revenueGrowth': 0.133, 'grossMargins': 0.69074994, 'ebitdaMargins': 0.55247, 'operatingMargins': 0.45671, 'financialCurrency': 'USD', 'symbol': 'MSFT', 'language': 'en-US', 'region': 'US', 'typeDisp': 'Equity', 'quoteSourceName': 'Nasdaq Real Time Price', 'triggerable': True, 'customPriceAlertConfidence': 'HIGH', 'cryptoTradeable': False, 'corporateActions': [{'header': 'Dividend', 'message': 'MSFT announced a cash dividend of 0.83 with an ex-date of Aug. 21, 2025', 'meta': {'eventType': 'DIVIDEND', 'dateEpochMs': 1755748800000, 'amount': '0.83'}}], 'preMarketTime': 1753345195, 'regularMarketTime': 1753300801, 'exchange': 'NMS', 'messageBoardId': 'finmb_21835', 'exchangeTimezoneName': 'America/New_York', 'exchangeTimezoneShortName': 'EDT', 'gmtOffSetMilliseconds': -14400000, 'market': 'us_market', 'esgPopulated': False, 'regularMarketChangePercent': 0.11875, 'regularMarketPrice': 505.87, 'hasPrePostMarketData': True, 'shortName': 'Microsoft Corporation', 'longName': 'Microsoft Corporation', 'firstTradeDateMilliseconds': 511108200000, 'preMarketChange': 0.52001953, 'preMarketChangePercent': 0.10279707, 'preMarketPrice': 506.39, 'regularMarketChange': 0.600006, 'regularMarketDayRange': '500.7 - 506.7501', 'fullExchangeName': 'NasdaqGS', 'averageDailyVolume3Month': 19968052, 'fiftyTwoWeekLowChange': 161.07999, 'fiftyTwoWeekLowChangePercent': 0.46718287, 'fiftyTwoWeekRange': '344.79 - 514.64', 'fiftyTwoWeekHighChange': -8.77002, 'fiftyTwoWeekHighChangePercent': -0.017041076, 'fiftyTwoWeekChangePercent': 20.905828, 'dividendDate': 1757548800, 'earningsTimestamp': 1753905600, 'earningsTimestampStart': 1753905600, 'earningsTimestampEnd': 1753905600, 'earningsCallTimestampStart': 1753911000, 'earningsCallTimestampEnd': 1753911000, 'isEarningsDateEstimate': False, 'epsTrailingTwelveMonths': 12.95, 'epsForward': 14.95, 'epsCurrentYear': 13.41771, 'priceEpsCurrentYear': 37.701664, 'fiftyDayAverageChange': 26.199799, 'fiftyDayAverageChangePercent': 0.05462044, 'twoHundredDayAverageChange': 76.60983, 'twoHundredDayAverageChangePercent': 0.17846946, 'sourceInterval': 15, 'exchangeDataDelayedBy': 0, 'averageAnalystRating': '1.4 - Strong Buy', 'marketState': 'PRE', 'displayName': 'Microsoft', 'trailingPegRatio': 2.3663}\n"
     ]
    }
   ],
   "execution_count": 12
  },
  {
   "metadata": {
    "ExecuteTime": {
     "end_time": "2025-07-24T08:21:42.300600Z",
     "start_time": "2025-07-24T08:21:41.820974Z"
    }
   },
   "cell_type": "code",
   "source": [
    "hist = msft.history(period='5d')\n",
    "print(hist)\n",
    "\n",
    "msft.recommendations"
   ],
   "id": "c8eaa76be8c070f4",
   "outputs": [
    {
     "name": "stdout",
     "output_type": "stream",
     "text": [
      "                                 Open        High         Low       Close  \\\n",
      "Date                                                                        \n",
      "2025-07-17 00:00:00-04:00  505.679993  513.369995  505.619995  511.700012   \n",
      "2025-07-18 00:00:00-04:00  514.479980  514.640015  507.429993  510.049988   \n",
      "2025-07-21 00:00:00-04:00  506.709991  512.090027  505.549988  510.059998   \n",
      "2025-07-22 00:00:00-04:00  510.970001  511.200012  505.269989  505.269989   \n",
      "2025-07-23 00:00:00-04:00  506.750000  506.790009  500.700012  505.869995   \n",
      "\n",
      "                             Volume  Dividends  Stock Splits  \n",
      "Date                                                          \n",
      "2025-07-17 00:00:00-04:00  17503100        0.0           0.0  \n",
      "2025-07-18 00:00:00-04:00  21209700        0.0           0.0  \n",
      "2025-07-21 00:00:00-04:00  14066800        0.0           0.0  \n",
      "2025-07-22 00:00:00-04:00  13868600        0.0           0.0  \n",
      "2025-07-23 00:00:00-04:00  16388300        0.0           0.0  \n"
     ]
    },
    {
     "data": {
      "text/plain": [
       "  period  strongBuy  buy  hold  sell  strongSell\n",
       "0     0m         13   41     5     0           0\n",
       "1    -1m         13   40     6     0           0\n",
       "2    -2m         14   41     5     0           0\n",
       "3    -3m         14   41     6     0           0"
      ],
      "text/html": [
       "<div>\n",
       "<style scoped>\n",
       "    .dataframe tbody tr th:only-of-type {\n",
       "        vertical-align: middle;\n",
       "    }\n",
       "\n",
       "    .dataframe tbody tr th {\n",
       "        vertical-align: top;\n",
       "    }\n",
       "\n",
       "    .dataframe thead th {\n",
       "        text-align: right;\n",
       "    }\n",
       "</style>\n",
       "<table border=\"1\" class=\"dataframe\">\n",
       "  <thead>\n",
       "    <tr style=\"text-align: right;\">\n",
       "      <th></th>\n",
       "      <th>period</th>\n",
       "      <th>strongBuy</th>\n",
       "      <th>buy</th>\n",
       "      <th>hold</th>\n",
       "      <th>sell</th>\n",
       "      <th>strongSell</th>\n",
       "    </tr>\n",
       "  </thead>\n",
       "  <tbody>\n",
       "    <tr>\n",
       "      <th>0</th>\n",
       "      <td>0m</td>\n",
       "      <td>13</td>\n",
       "      <td>41</td>\n",
       "      <td>5</td>\n",
       "      <td>0</td>\n",
       "      <td>0</td>\n",
       "    </tr>\n",
       "    <tr>\n",
       "      <th>1</th>\n",
       "      <td>-1m</td>\n",
       "      <td>13</td>\n",
       "      <td>40</td>\n",
       "      <td>6</td>\n",
       "      <td>0</td>\n",
       "      <td>0</td>\n",
       "    </tr>\n",
       "    <tr>\n",
       "      <th>2</th>\n",
       "      <td>-2m</td>\n",
       "      <td>14</td>\n",
       "      <td>41</td>\n",
       "      <td>5</td>\n",
       "      <td>0</td>\n",
       "      <td>0</td>\n",
       "    </tr>\n",
       "    <tr>\n",
       "      <th>3</th>\n",
       "      <td>-3m</td>\n",
       "      <td>14</td>\n",
       "      <td>41</td>\n",
       "      <td>6</td>\n",
       "      <td>0</td>\n",
       "      <td>0</td>\n",
       "    </tr>\n",
       "  </tbody>\n",
       "</table>\n",
       "</div>"
      ]
     },
     "execution_count": 13,
     "metadata": {},
     "output_type": "execute_result"
    }
   ],
   "execution_count": 13
  }
 ],
 "metadata": {
  "kernelspec": {
   "display_name": "Python 3",
   "language": "python",
   "name": "python3"
  },
  "language_info": {
   "codemirror_mode": {
    "name": "ipython",
    "version": 2
   },
   "file_extension": ".py",
   "mimetype": "text/x-python",
   "name": "python",
   "nbconvert_exporter": "python",
   "pygments_lexer": "ipython2",
   "version": "2.7.6"
  }
 },
 "nbformat": 4,
 "nbformat_minor": 5
}

{
 "cells": [
  {
   "metadata": {},
   "cell_type": "code",
   "source": "%pip install pymupdf pypdf langchain_community",
   "id": "7bb2fb110f5f631a",
   "outputs": [],
   "execution_count": null
  },
  {
   "metadata": {
    "collapsed": true
   },
   "cell_type": "code",
   "source": [
    "from langchain_community.document_loaders import PyMuPDFLoader\n",
    "\n",
    "loader = PyMuPDFLoader('data/2040_seoul_plan.pdf')\n",
    "data_seoul = loader.load()\n",
    "print(data_seoul)"
   ],
   "id": "initial_id",
   "outputs": [],
   "execution_count": null
  },
  {
   "metadata": {},
   "cell_type": "code",
   "source": [
    "from langchain_text_splitters import RecursiveCharacterTextSplitter\n",
    "\n",
    "text_splitter = RecursiveCharacterTextSplitter(chunk_size=1000, chunk_overlap=100)\n",
    "all_splits = text_splitter.split_documents(data_seoul)\n",
    "\n",
    "for i, split in enumerate(all_splits):\n",
    "    print(f'split {i+1}: -----------------')\n",
    "    print(split)"
   ],
   "id": "650139bfb6f04e97",
   "outputs": [],
   "execution_count": null
  },
  {
   "metadata": {},
   "cell_type": "code",
   "source": "print(type(all_splits[0]))",
   "id": "9983f95beaa51812",
   "outputs": [],
   "execution_count": null
  },
  {
   "metadata": {},
   "cell_type": "code",
   "source": [
    "print(all_splits[50].page_content)\n",
    "print(': -----------------: -----------------: -----------------')\n",
    "print(all_splits[51].page_content)"
   ],
   "id": "39006b36a32ec1ed",
   "outputs": [],
   "execution_count": null
  },
  {
   "metadata": {},
   "cell_type": "code",
   "source": "%pip install langchain_chroma",
   "id": "7c59818c12cac72b",
   "outputs": [],
   "execution_count": null
  },
  {
   "metadata": {},
   "cell_type": "code",
   "source": [
    "from langchain_openai import OpenAIEmbeddings\n",
    "\n",
    "from dotenv import load_dotenv\n",
    "import os\n",
    "load_dotenv()\n",
    "\n",
    "OPEN_AI_KEY = os.getenv('DEV_OPENAI_API_KEY')\n",
    "embedding = OpenAIEmbeddings(model='text-embedding-3-large',api_key=OPEN_AI_KEY)\n",
    "v = embedding.embed_query(\"뉴욕의 온실가스 저감 정책은 뭐야\")\n",
    "print(v)\n",
    "print(len(v))"
   ],
   "id": "272cd9b326ee8e24",
   "outputs": [],
   "execution_count": null
  },
  {
   "metadata": {},
   "cell_type": "code",
   "source": [
    "from langchain_chroma import Chroma\n",
    "import os \n",
    "\n",
    "persis_directory = './chroma_store'\n",
    "\n",
    "if not os.path.exists(persis_directory):\n",
    "    print(\"크로마 스토어 생성\")\n",
    "    vectorstore = Chroma.from_documents(\n",
    "        documents=all_splits,\n",
    "        embedding=embedding,\n",
    "        persist_directory=persis_directory,\n",
    "    )\n",
    "else :\n",
    "    print(\"load existing chroma store\")\n",
    "    vectorstore = Chroma(\n",
    "        embedding_function=embedding,\n",
    "        persist_directory=persis_directory,\n",
    "    )"
   ],
   "id": "28f073f55865f660",
   "outputs": [],
   "execution_count": null
  },
  {
   "metadata": {},
   "cell_type": "code",
   "source": [
    "retriever = vectorstore.as_retriever(k=3)\n",
    "docs = retriever.invoke(\"서울시의 환경 정책이 궁금해\")\n",
    "\n",
    "for d in docs:\n",
    "    print(d, '\\n\\n')\n",
    "    "
   ],
   "id": "8aaf7025567bb368",
   "outputs": [],
   "execution_count": null
  },
  {
   "metadata": {},
   "cell_type": "code",
   "source": [
    "from langchain_core.prompts import ChatPromptTemplate, MessagesPlaceholder\n",
    "from langchain.chains.combine_documents"
   ],
   "id": "a2f56c07858c72c1",
   "outputs": [],
   "execution_count": null
  }
 ],
 "metadata": {
  "kernelspec": {
   "display_name": "Python 3",
   "language": "python",
   "name": "python3"
  },
  "language_info": {
   "codemirror_mode": {
    "name": "ipython",
    "version": 2
   },
   "file_extension": ".py",
   "mimetype": "text/x-python",
   "name": "python",
   "nbconvert_exporter": "python",
   "pygments_lexer": "ipython2",
   "version": "2.7.6"
  }
 },
 "nbformat": 4,
 "nbformat_minor": 5
}

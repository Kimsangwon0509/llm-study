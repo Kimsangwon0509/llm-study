{
 "cells": [
  {
   "metadata": {},
   "cell_type": "code",
   "source": "%pip install pymupdf pypdf langchain_community",
   "id": "7bb2fb110f5f631a",
   "outputs": [],
   "execution_count": null
  },
  {
   "metadata": {
    "collapsed": true
   },
   "cell_type": "code",
   "source": [
    "from langchain_community.document_loaders import PyMuPDFLoader\n",
    "\n",
    "loader = PyMuPDFLoader('data/2040_seoul_plan.pdf')\n",
    "data_seoul = loader.load()\n",
    "print(data_seoul)"
   ],
   "id": "initial_id",
   "outputs": [],
   "execution_count": null
  },
  {
   "metadata": {},
   "cell_type": "code",
   "source": [
    "from langchain_text_splitters import RecursiveCharacterTextSplitter\n",
    "\n",
    "text_splitter = RecursiveCharacterTextSplitter(chunk_size=1000, chunk_overlap=100)\n",
    "all_splits = text_splitter.split_documents(data_seoul)\n",
    "\n",
    "for i, split in enumerate(all_splits):\n",
    "    print(f'split {i+1}: -----------------')\n",
    "    print(split)"
   ],
   "id": "650139bfb6f04e97",
   "outputs": [],
   "execution_count": null
  },
  {
   "metadata": {},
   "cell_type": "code",
   "source": "print(type(all_splits[0]))",
   "id": "9983f95beaa51812",
   "outputs": [],
   "execution_count": null
  },
  {
   "metadata": {},
   "cell_type": "code",
   "source": [
    "print(all_splits[50].page_content)\n",
    "print(': -----------------: -----------------: -----------------')\n",
    "print(all_splits[51].page_content)"
   ],
   "id": "39006b36a32ec1ed",
   "outputs": [],
   "execution_count": null
  },
  {
   "metadata": {},
   "cell_type": "code",
   "source": "%pip install langchain_chroma",
   "id": "7c59818c12cac72b",
   "outputs": [],
   "execution_count": null
  },
  {
   "metadata": {},
   "cell_type": "code",
   "source": [
    "from langchain_openai import OpenAIEmbeddings\n",
    "\n",
    "from dotenv import load_dotenv\n",
    "import os\n",
    "load_dotenv()\n",
    "\n",
    "OPEN_AI_KEY = os.getenv('DEV_OPENAI_API_KEY')\n",
    "embedding = OpenAIEmbeddings(model='text-embedding-3-large',api_key=OPEN_AI_KEY)\n",
    "v = embedding.embed_query(\"뉴욕의 온실가스 저감 정책은 뭐야\")\n",
    "print(v)\n",
    "print(len(v))"
   ],
   "id": "272cd9b326ee8e24",
   "outputs": [],
   "execution_count": null
  },
  {
   "metadata": {},
   "cell_type": "code",
   "source": [
    "from langchain_chroma import Chroma\n",
    "import os \n",
    "\n",
    "persis_directory = './chroma_store'\n",
    "\n",
    "if not os.path.exists(persis_directory):\n",
    "    print(\"크로마 스토어 생성\")\n",
    "    vectorstore = Chroma.from_documents(\n",
    "        documents=all_splits,\n",
    "        embedding=embedding,\n",
    "        persist_directory=persis_directory,\n",
    "    )\n",
    "else :\n",
    "    print(\"load existing chroma store\")\n",
    "    vectorstore = Chroma(\n",
    "        embedding_function=embedding,\n",
    "        persist_directory=persis_directory,\n",
    "    )"
   ],
   "id": "28f073f55865f660",
   "outputs": [],
   "execution_count": null
  },
  {
   "metadata": {},
   "cell_type": "code",
   "source": [
    "retriever = vectorstore.as_retriever(k=3)\n",
    "docs = retriever.invoke(\"서울시의 환경 정책이 궁금해\")\n",
    "\n",
    "for d in docs:\n",
    "    print(d, '\\n\\n')\n",
    "    "
   ],
   "id": "8aaf7025567bb368",
   "outputs": [],
   "execution_count": null
  },
  {
   "metadata": {
    "ExecuteTime": {
     "end_time": "2025-07-31T01:22:55.306542Z",
     "start_time": "2025-07-31T01:22:55.004468Z"
    }
   },
   "cell_type": "code",
   "source": [
    "from langchain_core.prompts import ChatPromptTemplate, MessagesPlaceholder\n",
    "from langchain.chains.combine_documents import create_stuff_documents_chain\n",
    "from langchain_openai import ChatOpenAI\n",
    "from dotenv import load_dotenv\n",
    "import os\n",
    "load_dotenv()\n",
    "\n",
    "OPEN_AI_KEY = os.getenv('DEV_OPENAI_API_KEY')\n",
    "\n",
    "chat = ChatOpenAI(model='gpt-4o-mini',api_key=OPEN_AI_KEY)\n",
    "\n",
    "question_answering_prompt = ChatPromptTemplate.from_messages(\n",
    "    [\n",
    "        (\n",
    "            \"system\",\n",
    "            \"사용자의 질문에 대해 아래 context에 기반하여 답변하라.:\\n\\n{context}\"\n",
    "        ),\n",
    "        MessagesPlaceholder(variable_name=\"messages\")\n",
    "    ]\n",
    ")\n",
    "\n",
    "document_chain = create_stuff_documents_chain(chat,question_answering_prompt)"
   ],
   "id": "a2f56c07858c72c1",
   "outputs": [],
   "execution_count": 6
  },
  {
   "metadata": {
    "ExecuteTime": {
     "end_time": "2025-07-31T01:26:50.837352Z",
     "start_time": "2025-07-31T01:26:39.094230Z"
    }
   },
   "cell_type": "code",
   "source": [
    "from langchain.memory import ChatMessageHistory\n",
    "\n",
    "chat_history = ChatMessageHistory()\n",
    "chat_history.add_user_message(\"서울시의 온실가스 저감 정책에 대해. 알려줘.\")\n",
    "\n",
    "answer = document_chain.invoke(\n",
    "    {\n",
    "        \"messages\" : chat_history.messages,\n",
    "        \"context\" : docs\n",
    "    }\n",
    ")\n",
    "\n",
    "chat_history.add_ai_message(answer)\n",
    "\n",
    "print(answer)"
   ],
   "id": "24156b3000ce4b67",
   "outputs": [
    {
     "name": "stdout",
     "output_type": "stream",
     "text": [
      "서울시의 온실가스 저감 정책은 주로 탄소중립 실현을 목표로 하며, 여러 전략과 구체적인 목표로 구성되어 있습니다. 주요 내용은 다음과 같습니다:\n",
      "\n",
      "1. **2050 탄소중립 목표**: 서울시는 2050년까지 탄소중립을 달성하기 위해 도시 인프라를 전환하는 전략을 수립하고 있습니다.\n",
      "\n",
      "2. **건물 부문**: 건물에서 발생하는 탄소배출을 줄이기 위해 친환경 기술을 개발하고 적극적으로 적용하는 것이 중요합니다. 이는 에너지 효율을 높이는 건물 개보수 및 신축을 포함합니다.\n",
      "\n",
      "3. **친환경 교통**: 미래 모빌리티 기술을 활용하고 친환경 수송 차량 및 관련 인프라를 확충하여 교통 부문에서의 탄소배출을 감소시키려고 합니다.\n",
      "\n",
      "4. **청정 에너지 기반 구축**: 에너지 전환을 위한 청정에너지의 기반을 마련하고, 재생 가능 에너지의 비율을 높이도록 노력합니다.\n",
      "\n",
      "5. **대기질 개선**: 대기 환경을 고려한 공간계획과 배출원 관리체계를 강화하여 미세먼지와 기타 대기오염 물질의 배출을 줄이는 것도 중요한 요소입니다.\n",
      "\n",
      "6. **자원 순환 체계 구축**: 자립적인 자원 순환 체계를 마련하여 폐기물 처리와 자원 회수의 효율성을 높입니다. 분산형 폐기물 처리 시설을 구축하고 시민들의 기후 행동을 활성화하는 거버넌스를 구축할 계획입니다.\n",
      "\n",
      "7. **녹지 공간 조성**: 도심 숲 및 생활 공원 등을 조성하여 시민들이 쾌적한 환경을 누릴 수 있도록 하며, 이는 자연환경 보존에도 기여합니다.\n",
      "\n",
      "8. **목표 달성 지표**: 서울시는 2005년 대비 70%의 온실가스를 감축하는 목표를 설정하고 있으며, 다양한 에너지 효율화 사업과 신재생에너지 보급 등 여러 지표에 따라 진행 상황을 평가하고 관리할 계획입니다.\n",
      "\n",
      "서울시는 이러한 정책들을 통해 기후변화에 효과적으로 대응하고, 도시 환경을 개선하며, 시민의 건강을 지키기 위한 노력을 지속적으로 이어가고 있습니다.\n"
     ]
    }
   ],
   "execution_count": 7
  },
  {
   "metadata": {
    "ExecuteTime": {
     "end_time": "2025-07-31T01:27:14.518658Z",
     "start_time": "2025-07-31T01:27:14.513475Z"
    }
   },
   "cell_type": "code",
   "source": [
    "for m in chat_history.messages:\n",
    "    print(m)"
   ],
   "id": "cfe242def5ec18b1",
   "outputs": [
    {
     "name": "stdout",
     "output_type": "stream",
     "text": [
      "content='서울시의 온실가스 저감 정책에 대해. 알려줘.' additional_kwargs={} response_metadata={}\n",
      "content='서울시의 온실가스 저감 정책은 주로 탄소중립 실현을 목표로 하며, 여러 전략과 구체적인 목표로 구성되어 있습니다. 주요 내용은 다음과 같습니다:\\n\\n1. **2050 탄소중립 목표**: 서울시는 2050년까지 탄소중립을 달성하기 위해 도시 인프라를 전환하는 전략을 수립하고 있습니다.\\n\\n2. **건물 부문**: 건물에서 발생하는 탄소배출을 줄이기 위해 친환경 기술을 개발하고 적극적으로 적용하는 것이 중요합니다. 이는 에너지 효율을 높이는 건물 개보수 및 신축을 포함합니다.\\n\\n3. **친환경 교통**: 미래 모빌리티 기술을 활용하고 친환경 수송 차량 및 관련 인프라를 확충하여 교통 부문에서의 탄소배출을 감소시키려고 합니다.\\n\\n4. **청정 에너지 기반 구축**: 에너지 전환을 위한 청정에너지의 기반을 마련하고, 재생 가능 에너지의 비율을 높이도록 노력합니다.\\n\\n5. **대기질 개선**: 대기 환경을 고려한 공간계획과 배출원 관리체계를 강화하여 미세먼지와 기타 대기오염 물질의 배출을 줄이는 것도 중요한 요소입니다.\\n\\n6. **자원 순환 체계 구축**: 자립적인 자원 순환 체계를 마련하여 폐기물 처리와 자원 회수의 효율성을 높입니다. 분산형 폐기물 처리 시설을 구축하고 시민들의 기후 행동을 활성화하는 거버넌스를 구축할 계획입니다.\\n\\n7. **녹지 공간 조성**: 도심 숲 및 생활 공원 등을 조성하여 시민들이 쾌적한 환경을 누릴 수 있도록 하며, 이는 자연환경 보존에도 기여합니다.\\n\\n8. **목표 달성 지표**: 서울시는 2005년 대비 70%의 온실가스를 감축하는 목표를 설정하고 있으며, 다양한 에너지 효율화 사업과 신재생에너지 보급 등 여러 지표에 따라 진행 상황을 평가하고 관리할 계획입니다.\\n\\n서울시는 이러한 정책들을 통해 기후변화에 효과적으로 대응하고, 도시 환경을 개선하며, 시민의 건강을 지키기 위한 노력을 지속적으로 이어가고 있습니다.' additional_kwargs={} response_metadata={}\n"
     ]
    }
   ],
   "execution_count": 8
  },
  {
   "metadata": {
    "ExecuteTime": {
     "end_time": "2025-07-31T01:40:33.281467Z",
     "start_time": "2025-07-31T01:40:33.279084Z"
    }
   },
   "cell_type": "code",
   "source": "from langchain_core.output_parsers import StrOutputParser",
   "id": "77bb8a865a082f1",
   "outputs": [],
   "execution_count": 12
  },
  {
   "metadata": {
    "ExecuteTime": {
     "end_time": "2025-07-31T01:40:28.138296Z",
     "start_time": "2025-07-31T01:40:28.134821Z"
    }
   },
   "cell_type": "code",
   "source": [
    "query_for_nyc = \"뉴욕은?\"\n",
    "\n",
    "query_augmentation_prompt = ChatPromptTemplate.from_messages(\n",
    "    [\n",
    "        MessagesPlaceholder(variable_name=\"messages\"), #기존 대화 내용\n",
    "        (\n",
    "            \"system\",\n",
    "            \"기존의 대화 내용을 활용하여 사용자가 질문한 의도를 파악해서 한 문장의 명료한 질문으로 변환하라. 대명사나 이, 저 , 그와 같은 표현을 명확한 명사로 표현하라. :\\n\\n{query}\"\n",
    "        )\n",
    "    ]\n",
    ")"
   ],
   "id": "eed6de3fecc3aeb0",
   "outputs": [],
   "execution_count": 10
  },
  {
   "metadata": {
    "ExecuteTime": {
     "end_time": "2025-07-31T01:40:35.758105Z",
     "start_time": "2025-07-31T01:40:35.754627Z"
    }
   },
   "cell_type": "code",
   "source": "query_augmentation_chain = query_augmentation_prompt | chat | StrOutputParser()",
   "id": "babd9c22f2c65d58",
   "outputs": [],
   "execution_count": 13
  },
  {
   "metadata": {
    "ExecuteTime": {
     "end_time": "2025-07-31T01:49:48.488639Z",
     "start_time": "2025-07-31T01:49:44.976801Z"
    }
   },
   "cell_type": "code",
   "source": [
    "augmented_query = query_augmentation_chain.invoke(\n",
    "    {\n",
    "        \"messages\" : chat_history.messages,\n",
    "        \"query\" : query_for_nyc,\n",
    "    }\n",
    ")\n",
    "\n",
    "print(augmented_query)"
   ],
   "id": "f852efe93b16f327",
   "outputs": [
    {
     "name": "stdout",
     "output_type": "stream",
     "text": [
      "뉴욕의 온실가스 저감 정책은 무엇인가요?\n"
     ]
    }
   ],
   "execution_count": 15
  },
  {
   "metadata": {
    "ExecuteTime": {
     "end_time": "2025-07-31T01:50:39.425475Z",
     "start_time": "2025-07-31T01:50:38.389840Z"
    }
   },
   "cell_type": "code",
   "source": [
    "docs = retriever.invoke(augmented_query)\n",
    "\n",
    "for d in docs: \n",
    "    print(d, '\\n\\n')"
   ],
   "id": "7ac9bdc8745f04e4",
   "outputs": [
    {
     "name": "stdout",
     "output_type": "stream",
     "text": [
      "page_content='정책 수립 시 주요하게 고려한다.\n",
      "장기적·구조적 전환을 위해 도시계획 단계에서의 탄소중립·기후위기 적응대책 반영\n",
      "Ÿ 탄소중립 및 기후위기 대책을 개별 사업 단위로 마련해 왔으나, 앞으로는 도시계획 및 도시 인프라 전\n",
      "반에서 더욱 장기적이고 구조적인 접근이 필요하다. \n",
      "Ÿ 토지이용 공간구조 개편, 주거환경, 공원녹지 등 관리계획 수립 시에도 기후변화 대응에 따른 계획 \n",
      "요소를 반영할 수 있도록 관련 기준을 제시한다.\n",
      "Ÿ 친환경 기술 개발 및 적용을 통한 탄소 배출량 감축, 친환경 교통 인프라 확충, 지역 내 청정에너지 \n",
      "기반 구축 등 탄소배출 감소를 위한 도시 에너지 체계 개편을 적극 추진한다.' metadata={'total_pages': 205, 'author': 'SI', 'producer': 'Hancom PDF 1.3.0.542', 'source': 'data/2040_seoul_plan.pdf', 'title': '', 'creationdate': '2024-12-12T18:16:11+09:00', 'trapped': '', 'creator': 'Hwp 2020 11.0.0.5178', 'moddate': '2024-12-12T18:16:11+09:00', 'keywords': '', 'subject': '', 'format': 'PDF 1.4', 'creationDate': \"D:20241212181611+09'00'\", 'modDate': \"D:20241212181611+09'00'\", 'page': 64, 'file_path': 'data/2040_seoul_plan.pdf'} \n",
      "\n",
      "\n",
      "page_content='56\n",
      "제2장 미래상과 목표\n",
      "6. 미래위기를 준비하는, ‘탄소중립 안전도시 구축’\n",
      "1) 배경\n",
      "전(全) 지구적인 기후변화에 대응하기 위한 대도시 차원의 대응 필요\n",
      "Ÿ 서울시 2017년 온실가스 배출량은 46,685천 톤CO2eq로 2005년 배출량에 비해 5.6%(276만 톤\n",
      "CO2eq) 감소하였으며, 서울의 1인당 온실가스 배출량은 4.7CO2eq로 국가의 13.8톤CO2eq에 비\n",
      "해 낮은 수준이다. 또한 2014년 기준 서울의 1인당 온실가스 배출량은 4.5CO2eq로 세계 주요 도시\n",
      "에 비해 낮은 수준을 보인다.7)\n",
      "[그림 2-26] 세계 주요 도시 1인당 온실가스 배출량\n",
      "   자료: World Bank, 2014\n",
      "Ÿ 그럼에도 불구하고, 기후변화 문제는 21세기에 전 지구적으로 가장 위중한 영향을 미칠 것으로 예\n",
      "상되는바, 탄소중립과 기후위기 대응은 국제·국가·도시의 핵심 정책으로 다루어져야 한다.\n",
      "Ÿ 파리협정(2015) 이후, 우리나라를 비롯한 미국, 유럽연합 등 세계 136개국이 탄소중립을 선언하였\n",
      "으며, 서울시를 비롯한 뉴욕, 런던 등과 같은 많은 글로벌 도시에서 탄소중립을 시정의 핵심과제로 \n",
      "추진 중이다.\n",
      "Ÿ 우리나라는 2020년 ‘한국판 그린뉴딜’을 발표하며 공식적으로 2050 탄소중립을 선언하였으며 \n",
      "서울시 역시 2020년 ‘그린뉴딜 추진을 통한 2050 온실가스 감축 전략’을 발표하고 탄소중립 선언에 \n",
      "따른 부문별 사업을 적극 추진하고 있다.\n",
      "- 서울시는 2050년 탄소중립을 목표로 2030년까지 2005년 배출량 대비 40%, 2040년까지 70% 감축\n",
      "목표를 제시하였고, 2022년 기후변화대응종합계획을 수립하여, 향후 5년간(’22~’26년) 2005년 대비 \n",
      "온실가스 30% 감축목표와 구체적인 실행계획을 수립하였음\n",
      "7) 황인창 외, 2020, 파리협정 이행 위한 서울시 ‘2050 탄소중립’ 전략, 서울연구원, pp.6-9.' metadata={'modDate': \"D:20241212181611+09'00'\", 'creationdate': '2024-12-12T18:16:11+09:00', 'creationDate': \"D:20241212181611+09'00'\", 'producer': 'Hancom PDF 1.3.0.542', 'moddate': '2024-12-12T18:16:11+09:00', 'total_pages': 205, 'format': 'PDF 1.4', 'page': 63, 'creator': 'Hwp 2020 11.0.0.5178', 'keywords': '', 'source': 'data/2040_seoul_plan.pdf', 'author': 'SI', 'file_path': 'data/2040_seoul_plan.pdf', 'title': '', 'trapped': '', 'subject': ''} \n",
      "\n",
      "\n",
      "page_content='제3절 2040 서울도시기본계획 7대 목표\n",
      "57\n",
      "Ÿ 특히, 서울시는 현재 온실가스 배출량의 90%를 차지하고 있는 건물과 수송 부문 감축을 위해 적극\n",
      "적인 대책을 마련하고 있다.\n",
      "- 2026년까지 건물 에너지효율화사업 100만 호를 추진, 건물온실가스총량제, 신규건물 제로에너지 \n",
      "건물(ZEB) 의무화를 통해 기존 및 신규건물의 제로에너지화를 촉진\n",
      "- 수송 부문 배출감축을 위해 전기차 비중을 2026년까지 10%(’21년 5.2만 대 → ’26년 40만 대)로 확\n",
      "대하고, 22만기의 충전 인프라 구축을 계획 중(’21년 2만기) \n",
      "시민 생활과 안전을 위한 기후위기 대응 요구 심화\n",
      "Ÿ 서울은 인구, 시설 등이 밀집해 있는 대도시로 기온 상승, 폭염, 집중호우, 태풍, 한파 등 극한 기후 \n",
      "현상이 더욱 빈번하게 발생할 것으로 전망된다. 이러한 기후위험은 서울시민의 일상생활과 안전을 \n",
      "크게 위협할 수 있다. 따라서 시민의 일상을 보호하고 도시의 회복력을 강화하기 위한 적극적인 기\n",
      "후위기 대응 전략이 필요하다.\n",
      "Ÿ 특히 다양화·복합화되는 재난안전사고에 대응해 전통적인 자연·사회재난의 범주뿐 아니라, 신종 \n",
      "복합재난까지 대비할 수 있는 다면적인 대응체계 마련이 요구된다.\n",
      "2) 추진전략\n",
      "탄소중립·기후위기 적응대책은 시의 모든 정책과 사업의 주요 원칙으로 고려\n",
      "Ÿ 탄소중립은 돌이키기 어려운 기후재난을 막기 위한 국제사회와의 약속이기에 시의 모든 정책과 \n",
      "사업의 결정 과정에서 주요하게 고려해야 할 포괄적 ‘원칙’으로 확립되어야 한다.\n",
      "- 서울시는 온실가스 감축 방안을 모든 예산사업에 고려·반영하기 위해 2021년부터 기후예산제 시범\n",
      "사업을 진행 중\n",
      "Ÿ 모든 실·국·본부와 관련 이해 당사자들은 이러한 원칙과 기본 방향에 적극적으로 참여할 필요가 있으며 \n",
      "기후변화로 인한 폭염, 홍수, 가뭄 등과 같은 기상재해는 향후 지속적으로 발생할 가능성이 높아, \n",
      "정책 수립 시 주요하게 고려한다.\n",
      "장기적·구조적 전환을 위해 도시계획 단계에서의 탄소중립·기후위기 적응대책 반영' metadata={'moddate': '2024-12-12T18:16:11+09:00', 'keywords': '', 'creator': 'Hwp 2020 11.0.0.5178', 'title': '', 'creationdate': '2024-12-12T18:16:11+09:00', 'source': 'data/2040_seoul_plan.pdf', 'format': 'PDF 1.4', 'creationDate': \"D:20241212181611+09'00'\", 'subject': '', 'author': 'SI', 'file_path': 'data/2040_seoul_plan.pdf', 'trapped': '', 'total_pages': 205, 'page': 64, 'producer': 'Hancom PDF 1.3.0.542', 'modDate': \"D:20241212181611+09'00'\"} \n",
      "\n",
      "\n",
      "page_content='확대를 지원한다.\n",
      "Ÿ 녹색교통진흥지역에서는 공해차량을 단계적으로 제한하고, 보도 확폭 등으로 도로 공간을 재편하여 \n",
      "보행환경을 개선한다.\n",
      "Ÿ 오염물질 배출차량의 통행을 제한하는 녹색교통진흥지역의 적용 공간범위를 확대한다.\n",
      "Ÿ 친환경 중·단거리 교통수단인 개인·공공자전거를 비롯하여 PM 등의 이용 증가에 대비하여 시민 \n",
      "편의와 안전을 확보하기 위한 도로 및 이용환경을 조성한다.\n",
      "Ÿ 공동이용시설과 대중교통의 미세먼지 배출량 저감을 위한 노력을 적극적으로 전개하여 국제 권고 \n",
      "기준 농도를 달성한다.' metadata={'format': 'PDF 1.4', 'subject': '', 'creationdate': '2024-12-12T18:16:11+09:00', 'source': 'data/2040_seoul_plan.pdf', 'author': 'SI', 'page': 101, 'title': '', 'producer': 'Hancom PDF 1.3.0.542', 'creationDate': \"D:20241212181611+09'00'\", 'creator': 'Hwp 2020 11.0.0.5178', 'file_path': 'data/2040_seoul_plan.pdf', 'modDate': \"D:20241212181611+09'00'\", 'trapped': '', 'moddate': '2024-12-12T18:16:11+09:00', 'total_pages': 205, 'keywords': ''} \n",
      "\n",
      "\n"
     ]
    }
   ],
   "execution_count": 16
  },
  {
   "metadata": {
    "ExecuteTime": {
     "end_time": "2025-07-31T01:52:42.859131Z",
     "start_time": "2025-07-31T01:52:28.393030Z"
    }
   },
   "cell_type": "code",
   "source": [
    "chat_history.add_user_message(query_for_nyc)\n",
    "\n",
    "answer = document_chain.invoke(\n",
    "    {\"messages\" : chat_history.messages,\n",
    "     \"context\" : docs}\n",
    ")\n",
    "\n",
    "chat_history.add_ai_message(answer)\n",
    "\n",
    "print(answer)\n"
   ],
   "id": "594b36f9db91995",
   "outputs": [
    {
     "name": "stdout",
     "output_type": "stream",
     "text": [
      "뉴욕시의 온실가스 저감 정책은 지속 가능한 도시 발전과 기후변화 대응에 중점을 두고 다양한 전략을 추진하고 있습니다. 주요 내용은 다음과 같습니다:\n",
      "\n",
      "1. **2030년 탄소배출 40% 감축 목표**: 뉴욕시는 2005년 대비 2030년까지 온실가스를 40% 줄이는 것을 목표로 설정하였습니다.\n",
      "\n",
      "2. **그린 뉴딜**: 뉴욕시는 \"그린 뉴딜\" 프로그램을 통해 신재생 에너지 사용 확대, 에너지 효율 개선, 녹색 일자리 창출 등을 추진하고 있습니다.\n",
      "\n",
      "3. **건물 에너지 효율 강화**: 건물에서 발생하는 온실가스의 약 70%가 높은 에너지 소비에서 비롯되므로, 기존 건물에 대한 에너지 효율화 규제를 강화하고, 새로운 건물에 대해서는 에너지 효율 기준을 설정하고 있습니다. 건물의 에너지 성능을 개선하기 위한 '건물 에너지 법안’과 '건축물의 지속 가능성 인증 제도'를 시행하고 있습니다.\n",
      "\n",
      "4. **전기차 및 대중교통 활성화**: 저탄소 교통 시스템으로의 전환을 위해 전기차 충전소를 늘리고, 대중교통 이용을 장려하기 위한 캠페인과 인프라 구축을 진행하고 있습니다. 또한, 전기버스와 같은 친환경 대중교통 수단 확대에도 힘쓰고 있습니다.\n",
      "\n",
      "5. **도심 녹지 조성 및 자전거 인프라**: 도심 내 공원과 녹지 공간을 늘리고, 자전거 도로와 인프라를 확충하여 시민들이 친환경 교통수단을 이용할 수 있도록 지원합니다.\n",
      "\n",
      "6. **재생 가능 에너지 사용 확대**: 태양광, 풍력 등 재생 가능 에너지 프로젝트에 대한 투자를 증가시켜, 전체 에너지 믹스에서 청정 에너지의 비율을 높이는 것이 목표입니다.\n",
      "\n",
      "7. **건축물의 제로에너지 목표**: 모든 신규 건물에 대해 제로에너지 건물(ZEB)로의 전환을 의무화하는 정책을 실시하고 있습니다.\n",
      "\n",
      "8. **시민 참여와 교육**: 시민의 기후 위기 인식을 높이고 지속 가능한 행동을 촉진하기 위해 다양한 교육 프로그램과 캠페인을 진행하고 있습니다.\n",
      "\n",
      "이와 함께 뉴욕시는 국제적인 기후 행동의 일환으로 파리 협정의 목표를 준수하고 있으며, 전 세계적으로 탄소중립을 목표로 하는 도시와 협력하고 있습니다. 뉴욕시는 이러한 다양한 정책을 통해 지속 가능한 도시 발전과 기후 변화 대응 노력을 강화하고 있습니다.\n"
     ]
    }
   ],
   "execution_count": 17
  }
 ],
 "metadata": {
  "kernelspec": {
   "display_name": "Python 3",
   "language": "python",
   "name": "python3"
  },
  "language_info": {
   "codemirror_mode": {
    "name": "ipython",
    "version": 2
   },
   "file_extension": ".py",
   "mimetype": "text/x-python",
   "name": "python",
   "nbconvert_exporter": "python",
   "pygments_lexer": "ipython2",
   "version": "2.7.6"
  }
 },
 "nbformat": 4,
 "nbformat_minor": 5
}

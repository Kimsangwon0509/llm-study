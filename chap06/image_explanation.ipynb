{
 "cells": [
  {
   "metadata": {},
   "cell_type": "code",
   "outputs": [],
   "execution_count": null,
   "source": [
    "from openai import OpenAI\n",
    "from dotenv import load_dotenv\n",
    "import os\n",
    "\n",
    "from pymupdf import message\n",
    "\n",
    "load_dotenv()\n",
    "api_key =os.getenv('OPENAI_API_KEY')\n",
    "\n",
    "client = OpenAI(api_key=api_key)\n",
    "\n",
    "messages = [\n",
    "    {\n",
    "        \"role\" : \"user\",\n",
    "        \"content\" : [\n",
    "            {\"type\": \"text\" , \"text\" : \"이 이미지에 대해 설명해 주세요.\"},\n",
    "            {\n",
    "                \"type\" : \"image_url\",\n",
    "                \"image_url\" : {\n",
    "                    \"url\" : \"https://i.namu.wiki/i/YCxzvoRD-XQfs_N3yOJhJLzUV4PrPj8Ck3X5PoWzn9tKxUFJNgJ4GsuM58KB9pdUYS9EMx2hVBmxy2yQdiNj7A.webp\"\n",
    "                }\n",
    "            }\n",
    "        ]\n",
    "    }\n",
    "]\n",
    "\n",
    "response = client.chat.completions.create(\n",
    "    model=\"gpt-4o\",\n",
    "    messages=messages\n",
    ")\n",
    "\n",
    "response\n"
   ],
   "id": "352078517f967cbc"
  },
  {
   "metadata": {},
   "cell_type": "code",
   "outputs": [],
   "execution_count": null,
   "source": [
    "# 이미지를 base64로 변환하기\n",
    "\n",
    "import base64\n",
    "\n",
    "def encode_image(image_path):\n",
    "    with open(image_path, \"rb\") as image_file:\n",
    "        return base64.b64encode(image_file.read()).decode(\"utf-8\")\n",
    "    \n",
    "impath = \"image.png\"\n",
    "\n",
    "base64_image = encode_image(impath)\n",
    "\n",
    "print(base64_image)"
   ],
   "id": "40b4b1a8bd870fb3"
  }
 ],
 "metadata": {
  "kernelspec": {
   "display_name": "Python 3",
   "language": "python",
   "name": "python3"
  },
  "language_info": {
   "codemirror_mode": {
    "name": "ipython",
    "version": 2
   },
   "file_extension": ".py",
   "mimetype": "text/x-python",
   "name": "python",
   "nbconvert_exporter": "python",
   "pygments_lexer": "ipython2",
   "version": "2.7.6"
  }
 },
 "nbformat": 4,
 "nbformat_minor": 5
}

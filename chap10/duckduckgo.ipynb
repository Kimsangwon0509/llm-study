{
 "cells": [
  {
   "cell_type": "code",
   "id": "initial_id",
   "metadata": {
    "collapsed": true,
    "ExecuteTime": {
     "end_time": "2025-08-01T01:33:06.498048Z",
     "start_time": "2025-08-01T01:33:03.133670Z"
    }
   },
   "source": [
    "from langchain_core import chat_history\n",
    "from langchain_openai import ChatOpenAI\n",
    "import dotenv\n",
    "import os\n",
    "\n",
    "dotenv.load_dotenv()\n",
    "open_api_key = os.getenv(\"DEV_OPENAI_API_KEY\")\n",
    "\n",
    "model = ChatOpenAI(api_key=open_api_key,model = \"gpt-4o-mini\")\n",
    "model.invoke(\"최근 로제가 발표한 신곡은 뭐야?\")"
   ],
   "outputs": [
    {
     "data": {
      "text/plain": [
       "AIMessage(content='2023년 10월 기준으로 로제의 최신 곡은 \"On The Ground\"와 \"Gone\"을 포함한 솔로 앨범 \"R\"에 수록된 곡들입니다. 그러나 그 이후에 새로운 곡이 발표되었을 수 있으니, 최신 정보를 확인해보시는 것이 좋습니다. 로제의 음악 활동에 대한 최근 소식은 공식 팬클럽이나 음악 스트리밍 서비스에서 확인할 수 있습니다.', additional_kwargs={'refusal': None}, response_metadata={'token_usage': {'completion_tokens': 98, 'prompt_tokens': 18, 'total_tokens': 116, 'completion_tokens_details': {'accepted_prediction_tokens': 0, 'audio_tokens': 0, 'reasoning_tokens': 0, 'rejected_prediction_tokens': 0}, 'prompt_tokens_details': {'audio_tokens': 0, 'cached_tokens': 0}}, 'model_name': 'gpt-4o-mini-2024-07-18', 'system_fingerprint': 'fp_62a23a81ef', 'id': 'chatcmpl-BzYvnjNiavUiqD7p7YoRASXld8vIH', 'service_tier': 'default', 'finish_reason': 'stop', 'logprobs': None}, id='run--afd5912c-df5b-49ec-98e0-4081666728c7-0', usage_metadata={'input_tokens': 18, 'output_tokens': 98, 'total_tokens': 116, 'input_token_details': {'audio': 0, 'cache_read': 0}, 'output_token_details': {'audio': 0, 'reasoning': 0}})"
      ]
     },
     "execution_count": 49,
     "metadata": {},
     "output_type": "execute_result"
    }
   ],
   "execution_count": 49
  },
  {
   "metadata": {
    "ExecuteTime": {
     "end_time": "2025-08-01T01:33:07.363171Z",
     "start_time": "2025-08-01T01:33:06.571068Z"
    }
   },
   "cell_type": "code",
   "source": "%pip install ddgs",
   "id": "c577f62de9a9fd04",
   "outputs": [
    {
     "name": "stderr",
     "output_type": "stream",
     "text": [
      "/Users/gse/.pyenv/versions/3.12.8/lib/python3.12/pty.py:95: DeprecationWarning: This process (pid=5792) is multi-threaded, use of forkpty() may lead to deadlocks in the child.\n",
      "  pid, fd = os.forkpty()\n"
     ]
    },
    {
     "name": "stdout",
     "output_type": "stream",
     "text": [
      "Requirement already satisfied: ddgs in /Users/gse/.pyenv/versions/llm-exercise-3.12.8/lib/python3.12/site-packages (9.4.3)\r\n",
      "Requirement already satisfied: click>=8.1.8 in /Users/gse/.pyenv/versions/llm-exercise-3.12.8/lib/python3.12/site-packages (from ddgs) (8.2.1)\r\n",
      "Requirement already satisfied: primp>=0.15.0 in /Users/gse/.pyenv/versions/llm-exercise-3.12.8/lib/python3.12/site-packages (from ddgs) (0.15.0)\r\n",
      "Requirement already satisfied: lxml>=5.3.0 in /Users/gse/.pyenv/versions/llm-exercise-3.12.8/lib/python3.12/site-packages (from ddgs) (6.0.0)\r\n",
      "\r\n",
      "\u001B[1m[\u001B[0m\u001B[34;49mnotice\u001B[0m\u001B[1;39;49m]\u001B[0m\u001B[39;49m A new release of pip is available: \u001B[0m\u001B[31;49m25.1.1\u001B[0m\u001B[39;49m -> \u001B[0m\u001B[32;49m25.2\u001B[0m\r\n",
      "\u001B[1m[\u001B[0m\u001B[34;49mnotice\u001B[0m\u001B[1;39;49m]\u001B[0m\u001B[39;49m To update, run: \u001B[0m\u001B[32;49mpython -m pip install --upgrade pip\u001B[0m\r\n",
      "Note: you may need to restart the kernel to use updated packages.\n"
     ]
    }
   ],
   "execution_count": 50
  },
  {
   "metadata": {
    "ExecuteTime": {
     "end_time": "2025-08-01T01:33:07.588751Z",
     "start_time": "2025-08-01T01:33:07.370988Z"
    }
   },
   "cell_type": "code",
   "source": [
    "from langchain_community.tools import DuckDuckGoSearchResults\n",
    "\n",
    "search = DuckDuckGoSearchResults(results_separator = '\\n')\n",
    "docs = search.invoke(\"최근 로제가 발표한 신곡을 알려줘\")\n",
    "\n",
    "docs"
   ],
   "id": "a1c80070889a38a6",
   "outputs": [
    {
     "name": "stderr",
     "output_type": "stream",
     "text": [
      "/Users/gse/.pyenv/versions/llm-exercise-3.12.8/lib/python3.12/site-packages/langchain_community/utilities/duckduckgo_search.py:63: RuntimeWarning: This package (`duckduckgo_search`) has been renamed to `ddgs`! Use `pip install ddgs` instead.\n",
      "  with DDGS() as ddgs:\n"
     ]
    },
    {
     "data": {
      "text/plain": [
       "'snippet: Nov 22, 2024 · 그룹 블랙핑크 로제가 신곡 ‘넘버 원 걸 (number one girl)’을 발표했다. 더블랙레이블은 22일 공식 SNS를 통해 로제의 새 싱글 ‘넘버 원 걸’ 음원과 뮤직비디오 공개 소식을 전했다. 이는 ‘아파트 (APT.)’와 …, title: “팬들을 생각하며 쓴 곡”...로제, 선공개 싱글 ‘넘버 원 걸 ..., link: https://www.mk.co.kr/news/musics/11175523\\nsnippet: Nov 22, 2024 · 블랙핑크 로제가 신곡 \\'number one girl\\'을 발표했다. 더블랙레이블은 22일 공식 SNS를 통해 로제의 새 싱글 \\'number one girl\\' 음원과 뮤직비디오 공개 소식을 전했다., title: [오늘가요] \"내가 특별하다고 말해줘\"…로제, \\'넘버 원 걸\\' 발표, link: https://www.joynews24.com/view/1786189\\nsnippet: Nov 22, 2024 · 걸그룹 블랙핑크의 멤버 로제가 22일 새 싱글 ‘넘버 원 걸 (Number one girl)’을 발표했다. 넘버 원 걸은 로제가 내달 6일에 발매하는 첫 정규앨범 ‘로지 (rosie)’의 선공개 곡이다. 소속사 더블랙레이블에 …, title: 로제, 신곡 ‘넘버 원 걸’ 공개… 브루노 마스가 프로듀싱, link: https://biz.chosun.com/entertainment/enter_general/2024/11/22/Q6AJ6YGRUJDPNIRGX5BKHHUBBY/\\nsnippet: Nov 19, 2024 · 더블랙레이블은 로제가 오는 22일 오후 2시 (한국기준) 싱글 \\'넘버 원 걸 (number one girl)\\'을 선공개한다고 밝혔다. 이는 지난달 18일 싱글 \\'아파트\\' 선공개 이후 약 한 달 만의 신곡 발표로, 로제의 컴백을 …, title: 블랙핑크 로제, \\'아파트\\' 신화 잇는다... 22일 신곡 공개 - 한국일보, link: https://www.hankookilbo.com/News/Read/A2024111917190000213'"
      ]
     },
     "execution_count": 51,
     "metadata": {},
     "output_type": "execute_result"
    }
   ],
   "execution_count": 51
  },
  {
   "metadata": {
    "ExecuteTime": {
     "end_time": "2025-08-01T01:33:07.845232Z",
     "start_time": "2025-08-01T01:33:07.603557Z"
    }
   },
   "cell_type": "code",
   "source": [
    "from langchain_community.utilities import DuckDuckGoSearchAPIWrapper\n",
    "\n",
    "# 한국 지역에서 최근 일주일(\"w\") 내의 검색 결과를 가져오도록 초기화\n",
    "wrapper = DuckDuckGoSearchAPIWrapper(region=\"kr-kr\",time=\"w\")\n",
    "\n",
    "# 검색 기능을 위해 초기화\n",
    "search = DuckDuckGoSearchResults(results_separator = ';;\\n',api_wrapper = wrapper,source=\"news\")\n",
    "\n",
    "result = search.invoke(\"로제의 신곡 apt에 대한 반응\")\n",
    "\n",
    "print(result)"
   ],
   "id": "48c5405811c48d7c",
   "outputs": [
    {
     "name": "stderr",
     "output_type": "stream",
     "text": [
      "/Users/gse/.pyenv/versions/llm-exercise-3.12.8/lib/python3.12/site-packages/langchain_community/utilities/duckduckgo_search.py:63: RuntimeWarning: This package (`duckduckgo_search`) has been renamed to `ddgs`! Use `pip install ddgs` instead.\n",
      "  with DDGS() as ddgs:\n"
     ]
    },
    {
     "name": "stdout",
     "output_type": "stream",
     "text": [
      "snippet: 3 days ago · 가수 윤수일이 '아파트'의 세계적 인기에 불을 지펴준 블랙핑크 로제에게 감사를 표했다. 오는 30일 방송되는 TV조선 '트롯 올스타전: 수요일밤에' (이하 '수밤')은 '사연 있는 …, title: \"은퇴 준비했는데\"... 윤수일, 블랙핑크 로제에 감사 전한 이유, link: https://www.hankookilbo.com/News/Read/A2025072909500001116;;\n",
      "snippet: 3 days ago · 큰 이슈가 된 로제 ‘APT’에 윤수일은 “뭐든 원조가 최고”라고 한 것도 잠시, “은퇴 준비를 하던 중 초대해 주셔서 삶의 활력이 다시 피어나는 것 같다. 인생 오래 살고 봐야 한다”며 …, title: 윤수일 은퇴도 미루게 한 로제 ‘APT’ “제2의 가수 인생, 인생 ..., link: https://v.daum.net/v/20250729093728725;;\n",
      "snippet: 2 days ago · 큰 이슈가 된 로제 ‘APT’에 그는 “뭐든 원조가 최고”라고 한 것도 잠시, “은퇴 준비를 하던 중 초대해 주셔서 삶의 활력이 다시 피어나는 것 같다. 인생 오래 살고 봐야 한다”며 감사를 …, title: '아파트 원조' 윤수일 \"은퇴 준비했는데…로제 'APT' 덕에 대박나 ..., link: https://news.nate.com/view/20250730n01188;;\n",
      "snippet: 3 days ago · (서울=뉴스1) 안태현 기자 = 가수 윤수일이 로제의 '아파트' (APT.) 흥행에 대한 생각을 밝혔다. 오는 30일 오후 10시 방송되는 TV조선 (TV CHOSUN) '트롯 올스타전: 수요일 밤에' …, title: 윤수일 \"은퇴 고민도…로제 '아파트' 덕에 다시 활력 생겨\" - 머니S, link: https://www.moneys.co.kr/article/2025072910208084192\n"
     ]
    }
   ],
   "execution_count": 52
  },
  {
   "metadata": {
    "ExecuteTime": {
     "end_time": "2025-08-01T01:33:08.091151Z",
     "start_time": "2025-08-01T01:33:07.854927Z"
    }
   },
   "cell_type": "code",
   "source": [
    "#특정 주소에서 데이터를 검색\n",
    "result = search.invoke(\"site:ytn.co.kr 로제의 신곡 apt에 대한 분석\")\n",
    "result"
   ],
   "id": "3e737d2c6abeace5",
   "outputs": [
    {
     "name": "stderr",
     "output_type": "stream",
     "text": [
      "/Users/gse/.pyenv/versions/llm-exercise-3.12.8/lib/python3.12/site-packages/langchain_community/utilities/duckduckgo_search.py:63: RuntimeWarning: This package (`duckduckgo_search`) has been renamed to `ddgs`! Use `pip install ddgs` instead.\n",
      "  with DDGS() as ddgs:\n"
     ]
    },
    {
     "data": {
      "text/plain": [
       "'snippet: 네이버 지도를 통해 다양한 장소를 검색하고 위치 정보를 확인하세요., title: 네이버 지도, link: https://map.naver.com/v5/;;\\nsnippet: 네이버 지도 홈 새로고침 새로고침 이후에도 반복적으로 문제가 발생한다면 네이버 지도 고객센터 를 확인해 주세요., title: 네이버 지도, link: https://map.naver.com/p/;;\\nsnippet: 네이버 지도는 장소 검색, 길찾기, 실시간 교통정보 등을 제공하는 서비스입니다., title: 네이버 지도, link: https://pages.map.naver.com/;;\\nsnippet: 지도 길찾기 버스 지하철 교통정보 이용약관 및 정책 지도 고객센터 신규장소 등록 법적공지 정보제공처 로그인, title: 네이버 지도 실시간 교통정보, link: http://rtt.map.naver.com/end-traffic/ends/web/home'"
      ]
     },
     "execution_count": 53,
     "metadata": {},
     "output_type": "execute_result"
    }
   ],
   "execution_count": 53
  },
  {
   "metadata": {
    "ExecuteTime": {
     "end_time": "2025-08-01T01:33:08.111486Z",
     "start_time": "2025-08-01T01:33:08.108741Z"
    }
   },
   "cell_type": "code",
   "source": [
    "links = []\n",
    "#print(result)\n",
    "for doc in result.split(\";;\\n\"):\n",
    "    print('doc-----\\n',doc,'\\n-------')\n",
    "    link = doc.split(\"link:\")[1].strip()\n",
    "    links.append(link)\n",
    "\n",
    "print(links)"
   ],
   "id": "3d701d6a440e9f3a",
   "outputs": [
    {
     "name": "stdout",
     "output_type": "stream",
     "text": [
      "doc-----\n",
      " snippet: 네이버 지도를 통해 다양한 장소를 검색하고 위치 정보를 확인하세요., title: 네이버 지도, link: https://map.naver.com/v5/ \n",
      "-------\n",
      "doc-----\n",
      " snippet: 네이버 지도 홈 새로고침 새로고침 이후에도 반복적으로 문제가 발생한다면 네이버 지도 고객센터 를 확인해 주세요., title: 네이버 지도, link: https://map.naver.com/p/ \n",
      "-------\n",
      "doc-----\n",
      " snippet: 네이버 지도는 장소 검색, 길찾기, 실시간 교통정보 등을 제공하는 서비스입니다., title: 네이버 지도, link: https://pages.map.naver.com/ \n",
      "-------\n",
      "doc-----\n",
      " snippet: 지도 길찾기 버스 지하철 교통정보 이용약관 및 정책 지도 고객센터 신규장소 등록 법적공지 정보제공처 로그인, title: 네이버 지도 실시간 교통정보, link: http://rtt.map.naver.com/end-traffic/ends/web/home \n",
      "-------\n",
      "['https://map.naver.com/v5/', 'https://map.naver.com/p/', 'https://pages.map.naver.com/', 'http://rtt.map.naver.com/end-traffic/ends/web/home']\n"
     ]
    }
   ],
   "execution_count": 54
  },
  {
   "metadata": {
    "ExecuteTime": {
     "end_time": "2025-08-01T01:33:08.451240Z",
     "start_time": "2025-08-01T01:33:08.134131Z"
    }
   },
   "cell_type": "code",
   "source": [
    "# 랭체인의 WebBaseLoader를 사용하여 웹 페이지의 내용 불러오기\n",
    "from langchain_community.document_loaders import WebBaseLoader\n",
    "\n",
    "# WebBaseLoader 객체를 생성. 'links'는 웹 페이지의 URL 목록을 담고 있는 변수\n",
    "# bs_get_text_kwargs는 BeautifulSoup의 get_text() 메서드에 전달될 추가 인자\n",
    "loader = WebBaseLoader(\n",
    "    web_paths=links, # 웹 페이지의 링크 목록을 지정\n",
    "    bs_get_text_kwargs={\n",
    "        \"strip\":True # 웹 페이지에서 텍스트를 가져올 때 앞 뒤의 공백 제거\n",
    "    }\n",
    ")\n",
    "\n",
    "# 비동기로 웹 페이지의 내용을 로드하고, 각 문서를 page_contents 리스트에 추가\n",
    "page_contents = []\n",
    "async for doc in loader.alazy_load():\n",
    "    page_contents.append(doc) # 불러온 문서를 page_contents 리스트에 추가\n",
    "    \n",
    "for content in page_contents:\n",
    "    print(content)\n",
    "    print('----------------')\n"
   ],
   "id": "5810ebc501fdc0d9",
   "outputs": [
    {
     "name": "stderr",
     "output_type": "stream",
     "text": [
      "Fetching pages: 100%|##########| 4/4 [00:00<00:00, 13.47it/s]"
     ]
    },
    {
     "name": "stdout",
     "output_type": "stream",
     "text": [
      "page_content='' metadata={'source': 'https://map.naver.com/v5/', 'language': 'ko'}\n",
      "----------------\n",
      "page_content='' metadata={'source': 'https://map.naver.com/p/', 'language': 'ko'}\n",
      "----------------\n",
      "page_content='네이버 지도' metadata={'source': 'https://pages.map.naver.com/', 'title': '네이버 지도', 'language': 'en'}\n",
      "----------------\n",
      "page_content='네이버 지도 실시간 교통정보네이버네이버 지도교통정보앱 열기메뉴도로, IC, 터널 검색' metadata={'source': 'http://rtt.map.naver.com/end-traffic/ends/web/home', 'title': '네이버 지도 실시간 교통정보', 'language': 'ko'}\n",
      "----------------\n"
     ]
    },
    {
     "name": "stderr",
     "output_type": "stream",
     "text": [
      "\n"
     ]
    }
   ],
   "execution_count": 55
  },
  {
   "metadata": {
    "ExecuteTime": {
     "end_time": "2025-08-01T01:33:08.469982Z",
     "start_time": "2025-08-01T01:33:08.466144Z"
    }
   },
   "cell_type": "code",
   "source": [
    "import requests\n",
    "from bs4 import BeautifulSoup\n",
    "\n",
    "def get_article_text(url):\n",
    "    try :\n",
    "        # URL에 GET 요청을 보냄\n",
    "        response = requests.get(url)\n",
    "        # 요청이 성공하지 못하면 예외를 발생\n",
    "        response.raise_for_status()\n",
    "        \n",
    "        #BeautifulSoup를 사용하여 HTML 내용을 파싱\n",
    "        soup = BeautifulSoup(response.content, 'html.parser')\n",
    "        \n",
    "        #클래스가 'story-news article'인 <article>찾기'\n",
    "        article = soup.find('article', class_='story-news article')\n",
    "        \n",
    "        #기사를 찾았다면 그 텍스트를 반환\n",
    "        if article: \n",
    "            return article.get_text(strip=True)\n",
    "        else :\n",
    "            try :\n",
    "                if soup.find('article'):\n",
    "                    return soup.find('article').get_text(strip=True)\n",
    "                elif soup.find('article', class_='CmAdContent'):\n",
    "                    return soup.find('div',id='CmAdContent').get_text(strip=True)\n",
    "            except :\n",
    "                return '기사를 찾을수 없습니다.'\n",
    "    except requests.exceptions.RequestException as E :\n",
    "        return f'url을 가져오던중 에러 발생 : {E}'\n"
   ],
   "id": "56a2b915114468a",
   "outputs": [],
   "execution_count": 56
  },
  {
   "metadata": {
    "ExecuteTime": {
     "end_time": "2025-08-01T01:33:08.880068Z",
     "start_time": "2025-08-01T01:33:08.487073Z"
    }
   },
   "cell_type": "code",
   "source": [
    "articles = []\n",
    "for link in links:\n",
    "    print(f'url : {link}')\n",
    "    article_text = get_article_text(link)\n",
    "    print(f'Content : \\n{article_text}')\n",
    "    print('----------------------------')\n",
    "    articles.append(article_text)"
   ],
   "id": "89f2d1b2ba3c1014",
   "outputs": [
    {
     "name": "stdout",
     "output_type": "stream",
     "text": [
      "url : https://map.naver.com/v5/\n",
      "Content : \n",
      "None\n",
      "----------------------------\n",
      "url : https://map.naver.com/p/\n",
      "Content : \n",
      "None\n",
      "----------------------------\n",
      "url : https://pages.map.naver.com/\n",
      "Content : \n",
      "None\n",
      "----------------------------\n",
      "url : http://rtt.map.naver.com/end-traffic/ends/web/home\n",
      "Content : \n",
      "None\n",
      "----------------------------\n"
     ]
    }
   ],
   "execution_count": 57
  },
  {
   "metadata": {
    "ExecuteTime": {
     "end_time": "2025-08-01T01:33:08.933094Z",
     "start_time": "2025-08-01T01:33:08.894330Z"
    }
   },
   "cell_type": "code",
   "source": [
    "from chap09.retriever import document_chain\n",
    "from langchain_core import chat_history\n",
    "\n",
    "chat_history.add_user_message(\"로제의 신곡 API에 대한 반응\")\n",
    "\n",
    "answer = document_chain.invoke(\n",
    "    {\n",
    "        \"messages\":chat_history.messages,\n",
    "        \"context\":docs\n",
    "    }\n",
    ")\n",
    "\n",
    "chat_history.add_ai_message(answer)\n",
    "print(answer)"
   ],
   "id": "52601ca847cf17f6",
   "outputs": [
    {
     "ename": "AttributeError",
     "evalue": "module 'langchain_core.chat_history' has no attribute 'add_user_message'",
     "output_type": "error",
     "traceback": [
      "\u001B[31m---------------------------------------------------------------------------\u001B[39m",
      "\u001B[31mAttributeError\u001B[39m                            Traceback (most recent call last)",
      "\u001B[36mCell\u001B[39m\u001B[36m \u001B[39m\u001B[32mIn[58]\u001B[39m\u001B[32m, line 4\u001B[39m\n\u001B[32m      1\u001B[39m \u001B[38;5;28;01mfrom\u001B[39;00m\u001B[38;5;250m \u001B[39m\u001B[34;01mchap09\u001B[39;00m\u001B[34;01m.\u001B[39;00m\u001B[34;01mretriever\u001B[39;00m\u001B[38;5;250m \u001B[39m\u001B[38;5;28;01mimport\u001B[39;00m document_chain\n\u001B[32m      2\u001B[39m \u001B[38;5;28;01mfrom\u001B[39;00m\u001B[38;5;250m \u001B[39m\u001B[34;01mlangchain_core\u001B[39;00m\u001B[38;5;250m \u001B[39m\u001B[38;5;28;01mimport\u001B[39;00m chat_history\n\u001B[32m----> \u001B[39m\u001B[32m4\u001B[39m \u001B[43mchat_history\u001B[49m\u001B[43m.\u001B[49m\u001B[43madd_user_message\u001B[49m(\u001B[33m\"\u001B[39m\u001B[33m로제의 신곡 API에 대한 반응\u001B[39m\u001B[33m\"\u001B[39m)\n\u001B[32m      6\u001B[39m answer = document_chain.invoke(\n\u001B[32m      7\u001B[39m     {\n\u001B[32m      8\u001B[39m         \u001B[33m\"\u001B[39m\u001B[33mmessages\u001B[39m\u001B[33m\"\u001B[39m:chat_history.messages,\n\u001B[32m      9\u001B[39m         \u001B[33m\"\u001B[39m\u001B[33mcontext\u001B[39m\u001B[33m\"\u001B[39m:docs\n\u001B[32m     10\u001B[39m     }\n\u001B[32m     11\u001B[39m )\n\u001B[32m     13\u001B[39m chat_history.add_ai_message(answer)\n",
      "\u001B[31mAttributeError\u001B[39m: module 'langchain_core.chat_history' has no attribute 'add_user_message'"
     ]
    }
   ],
   "execution_count": 58
  },
  {
   "metadata": {},
   "cell_type": "code",
   "outputs": [],
   "execution_count": null,
   "source": "",
   "id": "7d34ad6a8cde9aa8"
  }
 ],
 "metadata": {
  "kernelspec": {
   "display_name": "Python 3",
   "language": "python",
   "name": "python3"
  },
  "language_info": {
   "codemirror_mode": {
    "name": "ipython",
    "version": 2
   },
   "file_extension": ".py",
   "mimetype": "text/x-python",
   "name": "python",
   "nbconvert_exporter": "python",
   "pygments_lexer": "ipython2",
   "version": "2.7.6"
  }
 },
 "nbformat": 4,
 "nbformat_minor": 5
}

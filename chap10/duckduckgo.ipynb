{
 "cells": [
  {
   "cell_type": "code",
   "id": "initial_id",
   "metadata": {
    "collapsed": true
   },
   "source": [
    "from langchain_openai import ChatOpenAI\n",
    "import dotenv\n",
    "import os\n",
    "\n",
    "dotenv.load_dotenv()\n",
    "open_api_key = os.getenv(\"DEV_OPENAI_API_KEY\")\n",
    "\n",
    "model = ChatOpenAI(api_key=open_api_key,model = \"gpt-4o-mini\")\n",
    "model.invoke(\"최근 로제가 발표한 신곡은 뭐야?\")"
   ],
   "outputs": [],
   "execution_count": null
  },
  {
   "metadata": {
    "ExecuteTime": {
     "end_time": "2025-07-31T07:01:31.976587Z",
     "start_time": "2025-07-31T07:01:31.230919Z"
    }
   },
   "cell_type": "code",
   "source": "%pip install ddgs",
   "id": "c577f62de9a9fd04",
   "outputs": [
    {
     "name": "stderr",
     "output_type": "stream",
     "text": [
      "/Users/gse/.pyenv/versions/3.12.8/lib/python3.12/pty.py:95: DeprecationWarning: This process (pid=5792) is multi-threaded, use of forkpty() may lead to deadlocks in the child.\n",
      "  pid, fd = os.forkpty()\n"
     ]
    },
    {
     "name": "stdout",
     "output_type": "stream",
     "text": [
      "Collecting ddgs\r\n",
      "  Using cached ddgs-9.4.3-py3-none-any.whl.metadata (17 kB)\r\n",
      "Requirement already satisfied: click>=8.1.8 in /Users/gse/.pyenv/versions/llm-exercise-3.12.8/lib/python3.12/site-packages (from ddgs) (8.2.1)\r\n",
      "Requirement already satisfied: primp>=0.15.0 in /Users/gse/.pyenv/versions/llm-exercise-3.12.8/lib/python3.12/site-packages (from ddgs) (0.15.0)\r\n",
      "Requirement already satisfied: lxml>=5.3.0 in /Users/gse/.pyenv/versions/llm-exercise-3.12.8/lib/python3.12/site-packages (from ddgs) (6.0.0)\r\n",
      "Using cached ddgs-9.4.3-py3-none-any.whl (34 kB)\r\n",
      "Installing collected packages: ddgs\r\n",
      "Successfully installed ddgs-9.4.3\r\n",
      "\r\n",
      "\u001B[1m[\u001B[0m\u001B[34;49mnotice\u001B[0m\u001B[1;39;49m]\u001B[0m\u001B[39;49m A new release of pip is available: \u001B[0m\u001B[31;49m25.1.1\u001B[0m\u001B[39;49m -> \u001B[0m\u001B[32;49m25.2\u001B[0m\r\n",
      "\u001B[1m[\u001B[0m\u001B[34;49mnotice\u001B[0m\u001B[1;39;49m]\u001B[0m\u001B[39;49m To update, run: \u001B[0m\u001B[32;49mpython -m pip install --upgrade pip\u001B[0m\r\n",
      "Note: you may need to restart the kernel to use updated packages.\n"
     ]
    }
   ],
   "execution_count": 15
  },
  {
   "metadata": {
    "ExecuteTime": {
     "end_time": "2025-07-31T07:02:50.228794Z",
     "start_time": "2025-07-31T07:02:49.446819Z"
    }
   },
   "cell_type": "code",
   "source": [
    "from langchain_community.tools import DuckDuckGoSearchResults\n",
    "\n",
    "search = DuckDuckGoSearchResults(results_separator = '\\n')\n",
    "docs = search.invoke(\"최근 로제가 발표한 신곡을 알려줘\")\n",
    "\n",
    "docs"
   ],
   "id": "a1c80070889a38a6",
   "outputs": [
    {
     "name": "stderr",
     "output_type": "stream",
     "text": [
      "/Users/gse/.pyenv/versions/llm-exercise-3.12.8/lib/python3.12/site-packages/langchain_community/utilities/duckduckgo_search.py:63: RuntimeWarning: This package (`duckduckgo_search`) has been renamed to `ddgs`! Use `pip install ddgs` instead.\n",
      "  with DDGS() as ddgs:\n"
     ]
    },
    {
     "data": {
      "text/plain": [
       "'snippet: Nov 22, 2024 · 블랙핑크 로제가 신곡 \\'number one girl\\'을 발표했다. 더블랙레이블은 22일 공식 SNS를 통해 로제의 새 싱글 \\'number one girl\\' 음원과 뮤직비디오 공개 소식을 전했다., title: [오늘가요] \"내가 특별하다고 말해줘\"…로제, \\'넘버 원 걸\\' 발표, link: https://www.joynews24.com/view/1786189\\nsnippet: Nov 22, 2024 · 걸그룹 블랙핑크의 멤버 로제가 22일 새 싱글 ‘넘버 원 걸 (Number one girl)’을 발표했다. 넘버 원 걸은 로제가 내달 6일에 발매하는 첫 정규앨범 ‘로지 (rosie)’의 선공개 곡이다. 소속사 더블랙레이블에 따르면 넘버 원 …, title: 로제, 신곡 ‘넘버 원 걸’ 공개… 브루노 마스가 프로듀싱, link: https://biz.chosun.com/entertainment/enter_general/2024/11/22/Q6AJ6YGRUJDPNIRGX5BKHHUBBY/\\nsnippet: Nov 22, 2024 · 22일 오후 로제의 새 싱글 \\'number one girl\\' 음원과 뮤직비디오가 공개됐다. 이는 \\'APT.\\'와 마찬가지로 오는 12월 6일 발매되는 로제의 첫 번째 정규 앨범 \\'rosie\\'에도 수록될 예정이다. \\'rosie\\'는 총 12곡으로 …, title: 로제, 브루노 마스 프로듀싱 신곡 \\'number one girl\\' 발표 - 싱글리스트, link: https://www.slist.kr/news/articleView.html?idxno=598065\\nsnippet: Nov 20, 2024 · 전 세계 \\'아파트\\' 돌풍을 일으킨 블랙핑크 로제가 새로운 선공개 싱글 노래로 열기를 이어갑니다. 소속사 더블랙레이블은 로제가 모레 (22일) 새 싱글 \\'넘버 원 걸\\'을 발표한다고 밝혔습니다., title: [센터연예] \\'아파트\\' 열기 잇는다…로제 22일 새 싱글 공개 | 연합 ..., link: https://www.yna.co.kr/view/MYH20241120010500641'"
      ]
     },
     "execution_count": 16,
     "metadata": {},
     "output_type": "execute_result"
    }
   ],
   "execution_count": 16
  }
 ],
 "metadata": {
  "kernelspec": {
   "display_name": "Python 3",
   "language": "python",
   "name": "python3"
  },
  "language_info": {
   "codemirror_mode": {
    "name": "ipython",
    "version": 2
   },
   "file_extension": ".py",
   "mimetype": "text/x-python",
   "name": "python",
   "nbconvert_exporter": "python",
   "pygments_lexer": "ipython2",
   "version": "2.7.6"
  }
 },
 "nbformat": 4,
 "nbformat_minor": 5
}

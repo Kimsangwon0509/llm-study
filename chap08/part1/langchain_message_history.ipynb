{
 "cells": [
  {
   "metadata": {},
   "cell_type": "code",
   "outputs": [],
   "execution_count": null,
   "source": [
    "from langchain_core.chat_history import InMemoryChatMessageHistory, BaseChatMessageHistory\n",
    "from langchain_core.runnables import RunnableWithMessageHistory\n",
    "from langchain_openai import ChatOpenAI\n",
    "from langchain_core.messages import HumanMessage\n",
    "\n",
    "model = ChatOpenAI(model = \"gpt-4o-mini\")\n",
    "\n",
    "store = {\n",
    "    \n",
    "}\n",
    "\n",
    "def get_session_history(session_id :str) -> BaseChatMessageHistory:\n",
    "    if session_id not in store:\n",
    "        store[session_id] = InMemoryChatMessageHistory()\n",
    "        \n",
    "    return store[session_id]\n",
    "\n",
    "with_message_history = RunnableWithMessageHistory(model,get_session_history)"
   ],
   "id": "9bfa63fb8cff4618"
  },
  {
   "metadata": {},
   "cell_type": "code",
   "outputs": [],
   "execution_count": null,
   "source": [
    "config = {\"configuration\":{\"session_id\":\"abc2\"}}\n",
    "\n",
    "response = with_message_history.invoke(\n",
    "    [HumanMessage(content=\"안녕~난 루피야\")],\n",
    "    config=config\n",
    ")\n",
    "\n",
    "print(response.content)"
   ],
   "id": "33d767530f83f807"
  },
  {
   "metadata": {},
   "cell_type": "code",
   "outputs": [],
   "execution_count": null,
   "source": [
    "response = with_message_history.invoke(\n",
    "    [HumanMessage(content=\"내 이름이 뭐지\")],\n",
    "    config=config\n",
    ")\n",
    "\n",
    "print(response.content)"
   ],
   "id": "bf6bc3b752040609"
  },
  {
   "metadata": {},
   "cell_type": "code",
   "outputs": [],
   "execution_count": null,
   "source": [
    "config = {\"configuration\":{\"session_id\":\"bbc2\"}}\n",
    "\n",
    "response = with_message_history.invoke(\n",
    "    [HumanMessage(content=\"내 이름이 뭐지\")],\n",
    "    config=config\n",
    ")\n",
    "\n",
    "print(response.content)"
   ],
   "id": "16dadfa2384c41cb"
  },
  {
   "metadata": {},
   "cell_type": "code",
   "outputs": [],
   "execution_count": null,
   "source": [
    "config = {\"configuration\":{\"session_id\":\"abc2\"}}\n",
    "\n",
    "response = with_message_history.invoke(\n",
    "    [HumanMessage(content=\"내 이름이 뭐지\")],\n",
    "    config=config\n",
    ")\n",
    "\n",
    "print(response.content)"
   ],
   "id": "9bc2e728e4c39304"
  },
  {
   "metadata": {},
   "cell_type": "code",
   "outputs": [],
   "execution_count": null,
   "source": [
    "config = {\"configuration\":{\"session_id\":\"abc2\"}}\n",
    "for r in with_message_history.stream(\n",
    "    [HumanMessage(content=\"내가 어느 애니메이션에 등장하는지 맞춰보고 , ost 가사를 알려줘\")],\n",
    "    config=config\n",
    ") : print(r.content, end=\"\\n\")"
   ],
   "id": "34ab1a25d6e69e8f"
  }
 ],
 "metadata": {
  "kernelspec": {
   "display_name": "Python 3",
   "language": "python",
   "name": "python3"
  },
  "language_info": {
   "codemirror_mode": {
    "name": "ipython",
    "version": 2
   },
   "file_extension": ".py",
   "mimetype": "text/x-python",
   "name": "python",
   "nbconvert_exporter": "python",
   "pygments_lexer": "ipython2",
   "version": "2.7.6"
  }
 },
 "nbformat": 4,
 "nbformat_minor": 5
}

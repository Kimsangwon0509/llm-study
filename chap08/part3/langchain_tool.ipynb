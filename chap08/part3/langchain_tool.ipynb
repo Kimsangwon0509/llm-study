{
 "cells": [
  {
   "metadata": {},
   "cell_type": "code",
   "outputs": [],
   "execution_count": null,
   "source": [
    "from langchain_openai import ChatOpenAI\n",
    "from langchain_core.messages import HumanMessage\n",
    "\n",
    "from chap02.chap02 import response\n",
    "\n",
    "llm = ChatOpenAI(model = \"gpt-4o-mini\")\n",
    "\n",
    "llm.invoke([\n",
    "    HumanMessage(\"잘 지냈어?\")\n",
    "])"
   ],
   "id": "3c53d12e0d7a224a"
  },
  {
   "metadata": {},
   "cell_type": "code",
   "outputs": [],
   "execution_count": null,
   "source": [
    "from langchain_core.tools import tool\n",
    "from datetime import datetime\n",
    "import pytz\n",
    "\n",
    "@tool\n",
    "def get_current_time(timezone : str,location : str):\n",
    "    tz = pytz.timezone(timezone)\n",
    "    now = datetime.now(tz=tz).strftime(\"%Y-%m-%d %H:%M:%S\")\n",
    "    location_and_local_time = f'{timezone} ({location}) 현재시각 {now}'\n",
    "    print(location_and_local_time)\n",
    "    return location_and_local_time"
   ],
   "id": "12abdeccf1052984"
  },
  {
   "metadata": {},
   "cell_type": "code",
   "outputs": [],
   "execution_count": null,
   "source": [
    "tools = [get_current_time]\n",
    "tool_dict = {\"get_current_time\": get_current_time}\n",
    "\n",
    "llm_with_tools = llm.bind_tools(tools)"
   ],
   "id": "fffdd8ebb30dcc73"
  },
  {
   "metadata": {},
   "cell_type": "code",
   "outputs": [],
   "execution_count": null,
   "source": [
    "from langchain_core.messages import HumanMessage,SystemMessage\n",
    "\n",
    "messages = [\n",
    "    SystemMessage(\"너는 사용자의 질문에 답변을 하기 위해 tools를 사용할 수 있다.\"),\n",
    "    HumanMessage(\"부산은 지금 몇 시야?\")\n",
    "]\n",
    "\n",
    "response = llm_with_tools.invoke(messages)\n",
    "messages.append(response)\n",
    "\n",
    "print(response)"
   ],
   "id": "a516b7cd09244a93"
  },
  {
   "metadata": {},
   "cell_type": "code",
   "outputs": [],
   "execution_count": null,
   "source": [
    "for tool_call in response.tool_calls :\n",
    "    selected_tool = tool_dict[tool_call[\"name\"]]\n",
    "    print(tool_call[\"args\"])\n",
    "    tool_msg = selected_tool.invoke(tool_call)\n",
    "    messages.append(tool_msg)\n",
    "    \n",
    "print(messages) "
   ],
   "id": "c241e9cfa2bb9cc"
  },
  {
   "metadata": {},
   "cell_type": "code",
   "outputs": [],
   "execution_count": null,
   "source": "llm_with_tools.invoke(messages)",
   "id": "d8bd07b338ce04"
  },
  {
   "metadata": {},
   "cell_type": "code",
   "outputs": [],
   "execution_count": null,
   "source": [
    "from pydantic import BaseModel , Field\n",
    "\n",
    "class StockHistoryInput(BaseModel):\n",
    "    ticker: str = Field(..., title=\"주식 코드\", description=\"주식 코드 (예 : AAPL)\")\n",
    "    period : str = Field(...,title=\"기간\", description=\"(주식 데이터 조회 기간 (예 : 1d, 1mo,1y))\")"
   ],
   "id": "4f1bdb95f9505a00"
  },
  {
   "metadata": {},
   "cell_type": "code",
   "outputs": [],
   "execution_count": null,
   "source": [
    "import yfinance as yf\n",
    "\n",
    "@tool\n",
    "def get_yf_stock_history(stock_history_input : StockHistoryInput) -> str:\n",
    "    stock = yf.Ticker(stock_history_input.ticker)\n",
    "    history = stock.history(period = stock_history_input.period)\n",
    "    history_md = history.to_markdown()\n",
    "    \n",
    "    return history_md\n",
    "\n",
    "tools = [get_yf_stock_history, get_current_time]\n",
    "tool_dict = {\"get_yf_stock_history\": get_yf_stock_history, \"get_current_time\": get_current_time}\n",
    "\n",
    "llm_with_tools = llm.bind_tools(tools)"
   ],
   "id": "9cf04ed9626ff488"
  },
  {
   "metadata": {},
   "cell_type": "code",
   "outputs": [],
   "execution_count": null,
   "source": [
    "messages.append(HumanMessage(\"테슬라는 한 달 전에 비해 주가가 얼마나 내렸나\"))\n",
    "\n",
    "response = llm_with_tools.invoke(messages)\n",
    "print(response)\n",
    "messages.append(response)"
   ],
   "id": "8bdea337ff50599a"
  },
  {
   "metadata": {},
   "cell_type": "code",
   "outputs": [],
   "execution_count": null,
   "source": [
    "for tool_call in response.tool_calls :\n",
    "    selected_tool = tool_dict[tool_call[\"name\"]]\n",
    "    print(tool_call[\"args\"])\n",
    "    tool_msg = selected_tool.invoke(tool_call)\n",
    "    messages.append(tool_msg)\n",
    "    print(tool_msg)"
   ],
   "id": "4f758b1f8b39e3dc"
  },
  {
   "metadata": {},
   "cell_type": "code",
   "outputs": [],
   "execution_count": null,
   "source": "llm_with_tools.invoke(messages)",
   "id": "3697a862697be4f9"
  }
 ],
 "metadata": {
  "kernelspec": {
   "display_name": "Python 3",
   "language": "python",
   "name": "python3"
  },
  "language_info": {
   "codemirror_mode": {
    "name": "ipython",
    "version": 2
   },
   "file_extension": ".py",
   "mimetype": "text/x-python",
   "name": "python",
   "nbconvert_exporter": "python",
   "pygments_lexer": "ipython2",
   "version": "2.7.6"
  }
 },
 "nbformat": 4,
 "nbformat_minor": 5
}

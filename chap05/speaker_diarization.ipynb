{
 "cells": [
  {
   "cell_type": "code",
   "id": "initial_id",
   "metadata": {
    "collapsed": true,
    "jupyter": {
     "outputs_hidden": true
    },
    "ExecuteTime": {
     "end_time": "2025-07-23T10:53:31.063208Z",
     "start_time": "2025-07-23T10:53:29.466834Z"
    }
   },
   "source": [
    "#from pyannote.metrics.cli import diarization\n",
    "#from rich.jupyter import display\n",
    "%pip install pyannote.audio\n",
    "%pip install numpy==1.26"
   ],
   "outputs": [
    {
     "name": "stdout",
     "output_type": "stream",
     "text": [
      "Requirement already satisfied: pyannote.audio in /Users/gse/.pyenv/versions/llm-exercise-3.12.8/lib/python3.12/site-packages (3.3.2)\r\n",
      "Requirement already satisfied: asteroid-filterbanks>=0.4 in /Users/gse/.pyenv/versions/llm-exercise-3.12.8/lib/python3.12/site-packages (from pyannote.audio) (0.4.0)\r\n",
      "Requirement already satisfied: einops>=0.6.0 in /Users/gse/.pyenv/versions/llm-exercise-3.12.8/lib/python3.12/site-packages (from pyannote.audio) (0.8.1)\r\n",
      "Requirement already satisfied: huggingface-hub>=0.13.0 in /Users/gse/.pyenv/versions/llm-exercise-3.12.8/lib/python3.12/site-packages (from pyannote.audio) (0.33.4)\r\n",
      "Requirement already satisfied: lightning>=2.0.1 in /Users/gse/.pyenv/versions/llm-exercise-3.12.8/lib/python3.12/site-packages (from pyannote.audio) (2.5.2)\r\n",
      "Requirement already satisfied: omegaconf<3.0,>=2.1 in /Users/gse/.pyenv/versions/llm-exercise-3.12.8/lib/python3.12/site-packages (from pyannote.audio) (2.3.0)\r\n",
      "Requirement already satisfied: pyannote.core>=5.0.0 in /Users/gse/.pyenv/versions/llm-exercise-3.12.8/lib/python3.12/site-packages (from pyannote.audio) (5.0.0)\r\n",
      "Requirement already satisfied: pyannote.database>=5.0.1 in /Users/gse/.pyenv/versions/llm-exercise-3.12.8/lib/python3.12/site-packages (from pyannote.audio) (5.1.3)\r\n",
      "Requirement already satisfied: pyannote.metrics>=3.2 in /Users/gse/.pyenv/versions/llm-exercise-3.12.8/lib/python3.12/site-packages (from pyannote.audio) (3.2.1)\r\n",
      "Requirement already satisfied: pyannote.pipeline>=3.0.1 in /Users/gse/.pyenv/versions/llm-exercise-3.12.8/lib/python3.12/site-packages (from pyannote.audio) (3.0.1)\r\n",
      "Requirement already satisfied: pytorch-metric-learning>=2.1.0 in /Users/gse/.pyenv/versions/llm-exercise-3.12.8/lib/python3.12/site-packages (from pyannote.audio) (2.8.1)\r\n",
      "Requirement already satisfied: rich>=12.0.0 in /Users/gse/.pyenv/versions/llm-exercise-3.12.8/lib/python3.12/site-packages (from pyannote.audio) (14.0.0)\r\n",
      "Requirement already satisfied: semver>=3.0.0 in /Users/gse/.pyenv/versions/llm-exercise-3.12.8/lib/python3.12/site-packages (from pyannote.audio) (3.0.4)\r\n",
      "Requirement already satisfied: soundfile>=0.12.1 in /Users/gse/.pyenv/versions/llm-exercise-3.12.8/lib/python3.12/site-packages (from pyannote.audio) (0.13.1)\r\n",
      "Requirement already satisfied: speechbrain>=1.0.0 in /Users/gse/.pyenv/versions/llm-exercise-3.12.8/lib/python3.12/site-packages (from pyannote.audio) (1.0.3)\r\n",
      "Requirement already satisfied: tensorboardX>=2.6 in /Users/gse/.pyenv/versions/llm-exercise-3.12.8/lib/python3.12/site-packages (from pyannote.audio) (2.6.4)\r\n",
      "Requirement already satisfied: torch>=2.0.0 in /Users/gse/.pyenv/versions/llm-exercise-3.12.8/lib/python3.12/site-packages (from pyannote.audio) (2.7.1)\r\n",
      "Requirement already satisfied: torch-audiomentations>=0.11.0 in /Users/gse/.pyenv/versions/llm-exercise-3.12.8/lib/python3.12/site-packages (from pyannote.audio) (0.12.0)\r\n",
      "Requirement already satisfied: torchaudio>=2.2.0 in /Users/gse/.pyenv/versions/llm-exercise-3.12.8/lib/python3.12/site-packages (from pyannote.audio) (2.7.1)\r\n",
      "Requirement already satisfied: torchmetrics>=0.11.0 in /Users/gse/.pyenv/versions/llm-exercise-3.12.8/lib/python3.12/site-packages (from pyannote.audio) (1.7.4)\r\n",
      "Requirement already satisfied: antlr4-python3-runtime==4.9.* in /Users/gse/.pyenv/versions/llm-exercise-3.12.8/lib/python3.12/site-packages (from omegaconf<3.0,>=2.1->pyannote.audio) (4.9.3)\r\n",
      "Requirement already satisfied: PyYAML>=5.1.0 in /Users/gse/.pyenv/versions/llm-exercise-3.12.8/lib/python3.12/site-packages (from omegaconf<3.0,>=2.1->pyannote.audio) (6.0.2)\r\n",
      "Requirement already satisfied: numpy in /Users/gse/.pyenv/versions/llm-exercise-3.12.8/lib/python3.12/site-packages (from asteroid-filterbanks>=0.4->pyannote.audio) (1.26.0)\r\n",
      "Requirement already satisfied: typing-extensions in /Users/gse/.pyenv/versions/llm-exercise-3.12.8/lib/python3.12/site-packages (from asteroid-filterbanks>=0.4->pyannote.audio) (4.14.1)\r\n",
      "Requirement already satisfied: filelock in /Users/gse/.pyenv/versions/llm-exercise-3.12.8/lib/python3.12/site-packages (from huggingface-hub>=0.13.0->pyannote.audio) (3.13.1)\r\n",
      "Requirement already satisfied: fsspec>=2023.5.0 in /Users/gse/.pyenv/versions/llm-exercise-3.12.8/lib/python3.12/site-packages (from huggingface-hub>=0.13.0->pyannote.audio) (2024.6.1)\r\n",
      "Requirement already satisfied: packaging>=20.9 in /Users/gse/.pyenv/versions/llm-exercise-3.12.8/lib/python3.12/site-packages (from huggingface-hub>=0.13.0->pyannote.audio) (25.0)\r\n",
      "Requirement already satisfied: requests in /Users/gse/.pyenv/versions/llm-exercise-3.12.8/lib/python3.12/site-packages (from huggingface-hub>=0.13.0->pyannote.audio) (2.32.4)\r\n",
      "Requirement already satisfied: tqdm>=4.42.1 in /Users/gse/.pyenv/versions/llm-exercise-3.12.8/lib/python3.12/site-packages (from huggingface-hub>=0.13.0->pyannote.audio) (4.67.1)\r\n",
      "Requirement already satisfied: hf-xet<2.0.0,>=1.1.2 in /Users/gse/.pyenv/versions/llm-exercise-3.12.8/lib/python3.12/site-packages (from huggingface-hub>=0.13.0->pyannote.audio) (1.1.5)\r\n",
      "Requirement already satisfied: lightning-utilities<2.0,>=0.10.0 in /Users/gse/.pyenv/versions/llm-exercise-3.12.8/lib/python3.12/site-packages (from lightning>=2.0.1->pyannote.audio) (0.14.3)\r\n",
      "Requirement already satisfied: pytorch-lightning in /Users/gse/.pyenv/versions/llm-exercise-3.12.8/lib/python3.12/site-packages (from lightning>=2.0.1->pyannote.audio) (2.5.2)\r\n",
      "Requirement already satisfied: aiohttp!=4.0.0a0,!=4.0.0a1 in /Users/gse/.pyenv/versions/llm-exercise-3.12.8/lib/python3.12/site-packages (from fsspec[http]<2027.0,>=2022.5.0->lightning>=2.0.1->pyannote.audio) (3.12.14)\r\n",
      "Requirement already satisfied: setuptools in /Users/gse/.pyenv/versions/llm-exercise-3.12.8/lib/python3.12/site-packages (from lightning-utilities<2.0,>=0.10.0->lightning>=2.0.1->pyannote.audio) (80.9.0)\r\n",
      "Requirement already satisfied: sympy>=1.13.3 in /Users/gse/.pyenv/versions/llm-exercise-3.12.8/lib/python3.12/site-packages (from torch>=2.0.0->pyannote.audio) (1.13.3)\r\n",
      "Requirement already satisfied: networkx in /Users/gse/.pyenv/versions/llm-exercise-3.12.8/lib/python3.12/site-packages (from torch>=2.0.0->pyannote.audio) (3.3)\r\n",
      "Requirement already satisfied: jinja2 in /Users/gse/.pyenv/versions/llm-exercise-3.12.8/lib/python3.12/site-packages (from torch>=2.0.0->pyannote.audio) (3.1.6)\r\n",
      "Requirement already satisfied: aiohappyeyeballs>=2.5.0 in /Users/gse/.pyenv/versions/llm-exercise-3.12.8/lib/python3.12/site-packages (from aiohttp!=4.0.0a0,!=4.0.0a1->fsspec[http]<2027.0,>=2022.5.0->lightning>=2.0.1->pyannote.audio) (2.6.1)\r\n",
      "Requirement already satisfied: aiosignal>=1.4.0 in /Users/gse/.pyenv/versions/llm-exercise-3.12.8/lib/python3.12/site-packages (from aiohttp!=4.0.0a0,!=4.0.0a1->fsspec[http]<2027.0,>=2022.5.0->lightning>=2.0.1->pyannote.audio) (1.4.0)\r\n",
      "Requirement already satisfied: attrs>=17.3.0 in /Users/gse/.pyenv/versions/llm-exercise-3.12.8/lib/python3.12/site-packages (from aiohttp!=4.0.0a0,!=4.0.0a1->fsspec[http]<2027.0,>=2022.5.0->lightning>=2.0.1->pyannote.audio) (25.3.0)\r\n",
      "Requirement already satisfied: frozenlist>=1.1.1 in /Users/gse/.pyenv/versions/llm-exercise-3.12.8/lib/python3.12/site-packages (from aiohttp!=4.0.0a0,!=4.0.0a1->fsspec[http]<2027.0,>=2022.5.0->lightning>=2.0.1->pyannote.audio) (1.7.0)\r\n",
      "Requirement already satisfied: multidict<7.0,>=4.5 in /Users/gse/.pyenv/versions/llm-exercise-3.12.8/lib/python3.12/site-packages (from aiohttp!=4.0.0a0,!=4.0.0a1->fsspec[http]<2027.0,>=2022.5.0->lightning>=2.0.1->pyannote.audio) (6.6.3)\r\n",
      "Requirement already satisfied: propcache>=0.2.0 in /Users/gse/.pyenv/versions/llm-exercise-3.12.8/lib/python3.12/site-packages (from aiohttp!=4.0.0a0,!=4.0.0a1->fsspec[http]<2027.0,>=2022.5.0->lightning>=2.0.1->pyannote.audio) (0.3.2)\r\n",
      "Requirement already satisfied: yarl<2.0,>=1.17.0 in /Users/gse/.pyenv/versions/llm-exercise-3.12.8/lib/python3.12/site-packages (from aiohttp!=4.0.0a0,!=4.0.0a1->fsspec[http]<2027.0,>=2022.5.0->lightning>=2.0.1->pyannote.audio) (1.20.1)\r\n",
      "Requirement already satisfied: idna>=2.0 in /Users/gse/.pyenv/versions/llm-exercise-3.12.8/lib/python3.12/site-packages (from yarl<2.0,>=1.17.0->aiohttp!=4.0.0a0,!=4.0.0a1->fsspec[http]<2027.0,>=2022.5.0->lightning>=2.0.1->pyannote.audio) (3.10)\r\n",
      "Requirement already satisfied: sortedcontainers>=2.0.4 in /Users/gse/.pyenv/versions/llm-exercise-3.12.8/lib/python3.12/site-packages (from pyannote.core>=5.0.0->pyannote.audio) (2.4.0)\r\n",
      "Requirement already satisfied: scipy>=1.1 in /Users/gse/.pyenv/versions/llm-exercise-3.12.8/lib/python3.12/site-packages (from pyannote.core>=5.0.0->pyannote.audio) (1.16.0)\r\n",
      "Requirement already satisfied: pandas>=0.19 in /Users/gse/.pyenv/versions/llm-exercise-3.12.8/lib/python3.12/site-packages (from pyannote.database>=5.0.1->pyannote.audio) (2.3.1)\r\n",
      "Requirement already satisfied: typer>=0.12.1 in /Users/gse/.pyenv/versions/llm-exercise-3.12.8/lib/python3.12/site-packages (from pyannote.database>=5.0.1->pyannote.audio) (0.16.0)\r\n",
      "Requirement already satisfied: python-dateutil>=2.8.2 in /Users/gse/.pyenv/versions/llm-exercise-3.12.8/lib/python3.12/site-packages (from pandas>=0.19->pyannote.database>=5.0.1->pyannote.audio) (2.9.0.post0)\r\n",
      "Requirement already satisfied: pytz>=2020.1 in /Users/gse/.pyenv/versions/llm-exercise-3.12.8/lib/python3.12/site-packages (from pandas>=0.19->pyannote.database>=5.0.1->pyannote.audio) (2025.2)\r\n",
      "Requirement already satisfied: tzdata>=2022.7 in /Users/gse/.pyenv/versions/llm-exercise-3.12.8/lib/python3.12/site-packages (from pandas>=0.19->pyannote.database>=5.0.1->pyannote.audio) (2025.2)\r\n",
      "Requirement already satisfied: scikit-learn>=0.17.1 in /Users/gse/.pyenv/versions/llm-exercise-3.12.8/lib/python3.12/site-packages (from pyannote.metrics>=3.2->pyannote.audio) (1.7.0)\r\n",
      "Requirement already satisfied: docopt>=0.6.2 in /Users/gse/.pyenv/versions/llm-exercise-3.12.8/lib/python3.12/site-packages (from pyannote.metrics>=3.2->pyannote.audio) (0.6.2)\r\n",
      "Requirement already satisfied: tabulate>=0.7.7 in /Users/gse/.pyenv/versions/llm-exercise-3.12.8/lib/python3.12/site-packages (from pyannote.metrics>=3.2->pyannote.audio) (0.9.0)\r\n",
      "Requirement already satisfied: matplotlib>=2.0.0 in /Users/gse/.pyenv/versions/llm-exercise-3.12.8/lib/python3.12/site-packages (from pyannote.metrics>=3.2->pyannote.audio) (3.10.3)\r\n",
      "Requirement already satisfied: contourpy>=1.0.1 in /Users/gse/.pyenv/versions/llm-exercise-3.12.8/lib/python3.12/site-packages (from matplotlib>=2.0.0->pyannote.metrics>=3.2->pyannote.audio) (1.3.2)\r\n",
      "Requirement already satisfied: cycler>=0.10 in /Users/gse/.pyenv/versions/llm-exercise-3.12.8/lib/python3.12/site-packages (from matplotlib>=2.0.0->pyannote.metrics>=3.2->pyannote.audio) (0.12.1)\r\n",
      "Requirement already satisfied: fonttools>=4.22.0 in /Users/gse/.pyenv/versions/llm-exercise-3.12.8/lib/python3.12/site-packages (from matplotlib>=2.0.0->pyannote.metrics>=3.2->pyannote.audio) (4.58.5)\r\n",
      "Requirement already satisfied: kiwisolver>=1.3.1 in /Users/gse/.pyenv/versions/llm-exercise-3.12.8/lib/python3.12/site-packages (from matplotlib>=2.0.0->pyannote.metrics>=3.2->pyannote.audio) (1.4.8)\r\n",
      "Requirement already satisfied: pillow>=8 in /Users/gse/.pyenv/versions/llm-exercise-3.12.8/lib/python3.12/site-packages (from matplotlib>=2.0.0->pyannote.metrics>=3.2->pyannote.audio) (11.0.0)\r\n",
      "Requirement already satisfied: pyparsing>=2.3.1 in /Users/gse/.pyenv/versions/llm-exercise-3.12.8/lib/python3.12/site-packages (from matplotlib>=2.0.0->pyannote.metrics>=3.2->pyannote.audio) (3.2.3)\r\n",
      "Requirement already satisfied: optuna>=3.1 in /Users/gse/.pyenv/versions/llm-exercise-3.12.8/lib/python3.12/site-packages (from pyannote.pipeline>=3.0.1->pyannote.audio) (4.4.0)\r\n",
      "Requirement already satisfied: alembic>=1.5.0 in /Users/gse/.pyenv/versions/llm-exercise-3.12.8/lib/python3.12/site-packages (from optuna>=3.1->pyannote.pipeline>=3.0.1->pyannote.audio) (1.16.4)\r\n",
      "Requirement already satisfied: colorlog in /Users/gse/.pyenv/versions/llm-exercise-3.12.8/lib/python3.12/site-packages (from optuna>=3.1->pyannote.pipeline>=3.0.1->pyannote.audio) (6.9.0)\r\n",
      "Requirement already satisfied: sqlalchemy>=1.4.2 in /Users/gse/.pyenv/versions/llm-exercise-3.12.8/lib/python3.12/site-packages (from optuna>=3.1->pyannote.pipeline>=3.0.1->pyannote.audio) (2.0.41)\r\n",
      "Requirement already satisfied: Mako in /Users/gse/.pyenv/versions/llm-exercise-3.12.8/lib/python3.12/site-packages (from alembic>=1.5.0->optuna>=3.1->pyannote.pipeline>=3.0.1->pyannote.audio) (1.3.10)\r\n",
      "Requirement already satisfied: six>=1.5 in /Users/gse/.pyenv/versions/llm-exercise-3.12.8/lib/python3.12/site-packages (from python-dateutil>=2.8.2->pandas>=0.19->pyannote.database>=5.0.1->pyannote.audio) (1.17.0)\r\n",
      "Requirement already satisfied: markdown-it-py>=2.2.0 in /Users/gse/.pyenv/versions/llm-exercise-3.12.8/lib/python3.12/site-packages (from rich>=12.0.0->pyannote.audio) (3.0.0)\r\n",
      "Requirement already satisfied: pygments<3.0.0,>=2.13.0 in /Users/gse/.pyenv/versions/llm-exercise-3.12.8/lib/python3.12/site-packages (from rich>=12.0.0->pyannote.audio) (2.19.2)\r\n",
      "Requirement already satisfied: mdurl~=0.1 in /Users/gse/.pyenv/versions/llm-exercise-3.12.8/lib/python3.12/site-packages (from markdown-it-py>=2.2.0->rich>=12.0.0->pyannote.audio) (0.1.2)\r\n",
      "Requirement already satisfied: joblib>=1.2.0 in /Users/gse/.pyenv/versions/llm-exercise-3.12.8/lib/python3.12/site-packages (from scikit-learn>=0.17.1->pyannote.metrics>=3.2->pyannote.audio) (1.5.1)\r\n",
      "Requirement already satisfied: threadpoolctl>=3.1.0 in /Users/gse/.pyenv/versions/llm-exercise-3.12.8/lib/python3.12/site-packages (from scikit-learn>=0.17.1->pyannote.metrics>=3.2->pyannote.audio) (3.6.0)\r\n",
      "Requirement already satisfied: cffi>=1.0 in /Users/gse/.pyenv/versions/llm-exercise-3.12.8/lib/python3.12/site-packages (from soundfile>=0.12.1->pyannote.audio) (1.17.1)\r\n",
      "Requirement already satisfied: pycparser in /Users/gse/.pyenv/versions/llm-exercise-3.12.8/lib/python3.12/site-packages (from cffi>=1.0->soundfile>=0.12.1->pyannote.audio) (2.22)\r\n",
      "Requirement already satisfied: hyperpyyaml in /Users/gse/.pyenv/versions/llm-exercise-3.12.8/lib/python3.12/site-packages (from speechbrain>=1.0.0->pyannote.audio) (1.2.2)\r\n",
      "Requirement already satisfied: sentencepiece in /Users/gse/.pyenv/versions/llm-exercise-3.12.8/lib/python3.12/site-packages (from speechbrain>=1.0.0->pyannote.audio) (0.2.0)\r\n",
      "Requirement already satisfied: mpmath<1.4,>=1.1.0 in /Users/gse/.pyenv/versions/llm-exercise-3.12.8/lib/python3.12/site-packages (from sympy>=1.13.3->torch>=2.0.0->pyannote.audio) (1.3.0)\r\n",
      "Requirement already satisfied: protobuf>=3.20 in /Users/gse/.pyenv/versions/llm-exercise-3.12.8/lib/python3.12/site-packages (from tensorboardX>=2.6->pyannote.audio) (6.31.1)\r\n",
      "Requirement already satisfied: julius<0.3,>=0.2.3 in /Users/gse/.pyenv/versions/llm-exercise-3.12.8/lib/python3.12/site-packages (from torch-audiomentations>=0.11.0->pyannote.audio) (0.2.7)\r\n",
      "Requirement already satisfied: torch-pitch-shift>=1.2.2 in /Users/gse/.pyenv/versions/llm-exercise-3.12.8/lib/python3.12/site-packages (from torch-audiomentations>=0.11.0->pyannote.audio) (1.2.5)\r\n",
      "Requirement already satisfied: primePy>=1.3 in /Users/gse/.pyenv/versions/llm-exercise-3.12.8/lib/python3.12/site-packages (from torch-pitch-shift>=1.2.2->torch-audiomentations>=0.11.0->pyannote.audio) (1.3)\r\n",
      "Requirement already satisfied: click>=8.0.0 in /Users/gse/.pyenv/versions/llm-exercise-3.12.8/lib/python3.12/site-packages (from typer>=0.12.1->pyannote.database>=5.0.1->pyannote.audio) (8.2.1)\r\n",
      "Requirement already satisfied: shellingham>=1.3.0 in /Users/gse/.pyenv/versions/llm-exercise-3.12.8/lib/python3.12/site-packages (from typer>=0.12.1->pyannote.database>=5.0.1->pyannote.audio) (1.5.4)\r\n",
      "Requirement already satisfied: ruamel.yaml>=0.17.28 in /Users/gse/.pyenv/versions/llm-exercise-3.12.8/lib/python3.12/site-packages (from hyperpyyaml->speechbrain>=1.0.0->pyannote.audio) (0.18.14)\r\n",
      "Requirement already satisfied: ruamel.yaml.clib>=0.2.7 in /Users/gse/.pyenv/versions/llm-exercise-3.12.8/lib/python3.12/site-packages (from ruamel.yaml>=0.17.28->hyperpyyaml->speechbrain>=1.0.0->pyannote.audio) (0.2.12)\r\n",
      "Requirement already satisfied: MarkupSafe>=2.0 in /Users/gse/.pyenv/versions/llm-exercise-3.12.8/lib/python3.12/site-packages (from jinja2->torch>=2.0.0->pyannote.audio) (3.0.2)\r\n",
      "Requirement already satisfied: charset_normalizer<4,>=2 in /Users/gse/.pyenv/versions/llm-exercise-3.12.8/lib/python3.12/site-packages (from requests->huggingface-hub>=0.13.0->pyannote.audio) (3.4.2)\r\n",
      "Requirement already satisfied: urllib3<3,>=1.21.1 in /Users/gse/.pyenv/versions/llm-exercise-3.12.8/lib/python3.12/site-packages (from requests->huggingface-hub>=0.13.0->pyannote.audio) (2.5.0)\r\n",
      "Requirement already satisfied: certifi>=2017.4.17 in /Users/gse/.pyenv/versions/llm-exercise-3.12.8/lib/python3.12/site-packages (from requests->huggingface-hub>=0.13.0->pyannote.audio) (2025.7.9)\r\n",
      "Note: you may need to restart the kernel to use updated packages.\n",
      "Requirement already satisfied: numpy==1.26 in /Users/gse/.pyenv/versions/llm-exercise-3.12.8/lib/python3.12/site-packages (1.26.0)\r\n",
      "Note: you may need to restart the kernel to use updated packages.\n"
     ]
    }
   ],
   "execution_count": 1
  },
  {
   "metadata": {},
   "cell_type": "code",
   "source": "",
   "id": "f80c6d7318f70aa6",
   "outputs": [],
   "execution_count": null
  },
  {
   "cell_type": "code",
   "id": "a2304734ef7a3f25",
   "metadata": {},
   "source": [
    "# instantiate the pipeline\n",
    "from pyannote.audio import Pipeline\n",
    "import os\n",
    "\n",
    "api_key = os.getenv('HUGGING_FACE_SECRET_KEY')\n",
    "pipeline = Pipeline.from_pretrained(\n",
    "  \"pyannote/speaker-diarization-3.1\",\n",
    "  use_auth_token=\"api_key\")\n",
    "\n",
    "import torch\n",
    "\n",
    "if torch.cuda.is_available():\n",
    "    pipeline.to(torch.device(\"cuda\"))\n",
    "    print('cuda is available')\n",
    "else :\n",
    "    print('cuda is not available')\n",
    "    \n",
    "    \n",
    "# run the pipeline on an audio file\n",
    "#diarization = pipeline(\"audio.wav\")\n",
    "\n",
    "# dump the diarization output to disk using RTTM format\n",
    "#with open(\"audio.rttm\", \"w\") as rttm:\n",
    "#    diarization.write_rttm(rttm)\n"
   ],
   "outputs": [],
   "execution_count": null
  },
  {
   "cell_type": "code",
   "id": "20688c73485a9f7f",
   "metadata": {
    "ExecuteTime": {
     "end_time": "2025-07-23T10:53:46.756293Z",
     "start_time": "2025-07-23T10:53:39.342152Z"
    }
   },
   "source": [
    "from transformers import pipeline\n",
    "\n",
    "# 화자 분리하고 RTTM 파일로 저장하기\n",
    "diarization = pipeline(\"mp3파일넣기\")\n",
    "\n",
    "with open(\"./audio/싼기타_비싼기타.rttm\", \"w\", encoding=\"utf-8\") as f:\n",
    "    diarization.write_rttm(f)"
   ],
   "outputs": [
    {
     "name": "stderr",
     "output_type": "stream",
     "text": [
      "/Users/gse/.pyenv/versions/llm-exercise-3.12.8/lib/python3.12/site-packages/tqdm/auto.py:21: TqdmWarning: IProgress not found. Please update jupyter and ipywidgets. See https://ipywidgets.readthedocs.io/en/stable/user_install.html\n",
      "  from .autonotebook import tqdm as notebook_tqdm\n"
     ]
    },
    {
     "ename": "KeyError",
     "evalue": "\"Unknown task mp3파일넣기, available tasks are ['audio-classification', 'automatic-speech-recognition', 'depth-estimation', 'document-question-answering', 'feature-extraction', 'fill-mask', 'image-classification', 'image-feature-extraction', 'image-segmentation', 'image-text-to-text', 'image-to-image', 'image-to-text', 'mask-generation', 'ner', 'object-detection', 'question-answering', 'sentiment-analysis', 'summarization', 'table-question-answering', 'text-classification', 'text-generation', 'text-to-audio', 'text-to-speech', 'text2text-generation', 'token-classification', 'translation', 'video-classification', 'visual-question-answering', 'vqa', 'zero-shot-audio-classification', 'zero-shot-classification', 'zero-shot-image-classification', 'zero-shot-object-detection', 'translation_XX_to_YY']\"",
     "output_type": "error",
     "traceback": [
      "\u001B[31m---------------------------------------------------------------------------\u001B[39m",
      "\u001B[31mKeyError\u001B[39m                                  Traceback (most recent call last)",
      "\u001B[36mCell\u001B[39m\u001B[36m \u001B[39m\u001B[32mIn[3]\u001B[39m\u001B[32m, line 4\u001B[39m\n\u001B[32m      1\u001B[39m \u001B[38;5;28;01mfrom\u001B[39;00m\u001B[38;5;250m \u001B[39m\u001B[34;01mtransformers\u001B[39;00m\u001B[38;5;250m \u001B[39m\u001B[38;5;28;01mimport\u001B[39;00m pipeline\n\u001B[32m      3\u001B[39m \u001B[38;5;66;03m# 화자 분리하고 RTTM 파일로 저장하기\u001B[39;00m\n\u001B[32m----> \u001B[39m\u001B[32m4\u001B[39m diarization = \u001B[43mpipeline\u001B[49m\u001B[43m(\u001B[49m\u001B[33;43m\"\u001B[39;49m\u001B[33;43mmp3파일넣기\u001B[39;49m\u001B[33;43m\"\u001B[39;49m\u001B[43m)\u001B[49m\n\u001B[32m      6\u001B[39m \u001B[38;5;28;01mwith\u001B[39;00m \u001B[38;5;28mopen\u001B[39m(\u001B[33m\"\u001B[39m\u001B[33m./audio/싼기타_비싼기타.rttm\u001B[39m\u001B[33m\"\u001B[39m, \u001B[33m\"\u001B[39m\u001B[33mw\u001B[39m\u001B[33m\"\u001B[39m, encoding=\u001B[33m\"\u001B[39m\u001B[33mutf-8\u001B[39m\u001B[33m\"\u001B[39m) \u001B[38;5;28;01mas\u001B[39;00m f:\n\u001B[32m      7\u001B[39m     diarization.write_rttm(f)\n",
      "\u001B[36mFile \u001B[39m\u001B[32m~/.pyenv/versions/llm-exercise-3.12.8/lib/python3.12/site-packages/transformers/pipelines/__init__.py:895\u001B[39m, in \u001B[36mpipeline\u001B[39m\u001B[34m(task, model, config, tokenizer, feature_extractor, image_processor, processor, framework, revision, use_fast, token, device, device_map, torch_dtype, trust_remote_code, model_kwargs, pipeline_class, **kwargs)\u001B[39m\n\u001B[32m    888\u001B[39m         pipeline_class = get_class_from_dynamic_module(\n\u001B[32m    889\u001B[39m             class_ref,\n\u001B[32m    890\u001B[39m             model,\n\u001B[32m    891\u001B[39m             code_revision=code_revision,\n\u001B[32m    892\u001B[39m             **hub_kwargs,\n\u001B[32m    893\u001B[39m         )\n\u001B[32m    894\u001B[39m \u001B[38;5;28;01melse\u001B[39;00m:\n\u001B[32m--> \u001B[39m\u001B[32m895\u001B[39m     normalized_task, targeted_task, task_options = \u001B[43mcheck_task\u001B[49m\u001B[43m(\u001B[49m\u001B[43mtask\u001B[49m\u001B[43m)\u001B[49m\n\u001B[32m    896\u001B[39m     \u001B[38;5;28;01mif\u001B[39;00m pipeline_class \u001B[38;5;129;01mis\u001B[39;00m \u001B[38;5;28;01mNone\u001B[39;00m:\n\u001B[32m    897\u001B[39m         pipeline_class = targeted_task[\u001B[33m\"\u001B[39m\u001B[33mimpl\u001B[39m\u001B[33m\"\u001B[39m]\n",
      "\u001B[36mFile \u001B[39m\u001B[32m~/.pyenv/versions/llm-exercise-3.12.8/lib/python3.12/site-packages/transformers/pipelines/__init__.py:548\u001B[39m, in \u001B[36mcheck_task\u001B[39m\u001B[34m(task)\u001B[39m\n\u001B[32m    503\u001B[39m \u001B[38;5;28;01mdef\u001B[39;00m\u001B[38;5;250m \u001B[39m\u001B[34mcheck_task\u001B[39m(task: \u001B[38;5;28mstr\u001B[39m) -> Tuple[\u001B[38;5;28mstr\u001B[39m, Dict, Any]:\n\u001B[32m    504\u001B[39m \u001B[38;5;250m    \u001B[39m\u001B[33;03m\"\"\"\u001B[39;00m\n\u001B[32m    505\u001B[39m \u001B[33;03m    Checks an incoming task string, to validate it's correct and return the default Pipeline and Model classes, and\u001B[39;00m\n\u001B[32m    506\u001B[39m \u001B[33;03m    default models if they exist.\u001B[39;00m\n\u001B[32m   (...)\u001B[39m\u001B[32m    546\u001B[39m \n\u001B[32m    547\u001B[39m \u001B[33;03m    \"\"\"\u001B[39;00m\n\u001B[32m--> \u001B[39m\u001B[32m548\u001B[39m     \u001B[38;5;28;01mreturn\u001B[39;00m \u001B[43mPIPELINE_REGISTRY\u001B[49m\u001B[43m.\u001B[49m\u001B[43mcheck_task\u001B[49m\u001B[43m(\u001B[49m\u001B[43mtask\u001B[49m\u001B[43m)\u001B[49m\n",
      "\u001B[36mFile \u001B[39m\u001B[32m~/.pyenv/versions/llm-exercise-3.12.8/lib/python3.12/site-packages/transformers/pipelines/base.py:1513\u001B[39m, in \u001B[36mPipelineRegistry.check_task\u001B[39m\u001B[34m(self, task)\u001B[39m\n\u001B[32m   1510\u001B[39m         \u001B[38;5;28;01mreturn\u001B[39;00m task, targeted_task, (tokens[\u001B[32m1\u001B[39m], tokens[\u001B[32m3\u001B[39m])\n\u001B[32m   1511\u001B[39m     \u001B[38;5;28;01mraise\u001B[39;00m \u001B[38;5;167;01mKeyError\u001B[39;00m(\u001B[33mf\u001B[39m\u001B[33m\"\u001B[39m\u001B[33mInvalid translation task \u001B[39m\u001B[38;5;132;01m{\u001B[39;00mtask\u001B[38;5;132;01m}\u001B[39;00m\u001B[33m, use \u001B[39m\u001B[33m'\u001B[39m\u001B[33mtranslation_XX_to_YY\u001B[39m\u001B[33m'\u001B[39m\u001B[33m format\u001B[39m\u001B[33m\"\u001B[39m)\n\u001B[32m-> \u001B[39m\u001B[32m1513\u001B[39m \u001B[38;5;28;01mraise\u001B[39;00m \u001B[38;5;167;01mKeyError\u001B[39;00m(\n\u001B[32m   1514\u001B[39m     \u001B[33mf\u001B[39m\u001B[33m\"\u001B[39m\u001B[33mUnknown task \u001B[39m\u001B[38;5;132;01m{\u001B[39;00mtask\u001B[38;5;132;01m}\u001B[39;00m\u001B[33m, available tasks are \u001B[39m\u001B[38;5;132;01m{\u001B[39;00m\u001B[38;5;28mself\u001B[39m.get_supported_tasks()\u001B[38;5;250m \u001B[39m+\u001B[38;5;250m \u001B[39m[\u001B[33m'\u001B[39m\u001B[33mtranslation_XX_to_YY\u001B[39m\u001B[33m'\u001B[39m]\u001B[38;5;132;01m}\u001B[39;00m\u001B[33m\"\u001B[39m\n\u001B[32m   1515\u001B[39m )\n",
      "\u001B[31mKeyError\u001B[39m: \"Unknown task mp3파일넣기, available tasks are ['audio-classification', 'automatic-speech-recognition', 'depth-estimation', 'document-question-answering', 'feature-extraction', 'fill-mask', 'image-classification', 'image-feature-extraction', 'image-segmentation', 'image-text-to-text', 'image-to-image', 'image-to-text', 'mask-generation', 'ner', 'object-detection', 'question-answering', 'sentiment-analysis', 'summarization', 'table-question-answering', 'text-classification', 'text-generation', 'text-to-audio', 'text-to-speech', 'text2text-generation', 'token-classification', 'translation', 'video-classification', 'visual-question-answering', 'vqa', 'zero-shot-audio-classification', 'zero-shot-classification', 'zero-shot-image-classification', 'zero-shot-object-detection', 'translation_XX_to_YY']\""
     ]
    }
   ],
   "execution_count": 3
  },
  {
   "cell_type": "code",
   "id": "2490560655383bee",
   "metadata": {
    "ExecuteTime": {
     "end_time": "2025-07-23T10:53:35.759767Z",
     "start_time": "2025-07-23T10:53:33.443063Z"
    }
   },
   "source": [
    "%pip install pandas\n",
    "import pandas as pd\n",
    "print(pd.__file__)\n",
    "rttm_path = \"./audio/싼기타_비싼기타.rttm\"\n",
    "\n",
    "df_rttm = pd.read_csv(rttm_path,sep=r'\\s+',header=None,names=['type','file','chnl','start','duration','C1','C2','speaker_id','C3','C4'])\n",
    "\n",
    "display(df_rttm)"
   ],
   "outputs": [
    {
     "name": "stdout",
     "output_type": "stream",
     "text": [
      "Requirement already satisfied: pandas in /Users/gse/.pyenv/versions/llm-exercise-3.12.8/lib/python3.12/site-packages (2.3.1)\r\n",
      "Requirement already satisfied: numpy>=1.26.0 in /Users/gse/.pyenv/versions/llm-exercise-3.12.8/lib/python3.12/site-packages (from pandas) (1.26.0)\r\n",
      "Requirement already satisfied: python-dateutil>=2.8.2 in /Users/gse/.pyenv/versions/llm-exercise-3.12.8/lib/python3.12/site-packages (from pandas) (2.9.0.post0)\r\n",
      "Requirement already satisfied: pytz>=2020.1 in /Users/gse/.pyenv/versions/llm-exercise-3.12.8/lib/python3.12/site-packages (from pandas) (2025.2)\r\n",
      "Requirement already satisfied: tzdata>=2022.7 in /Users/gse/.pyenv/versions/llm-exercise-3.12.8/lib/python3.12/site-packages (from pandas) (2025.2)\r\n",
      "Requirement already satisfied: six>=1.5 in /Users/gse/.pyenv/versions/llm-exercise-3.12.8/lib/python3.12/site-packages (from python-dateutil>=2.8.2->pandas) (1.17.0)\r\n",
      "Note: you may need to restart the kernel to use updated packages.\n",
      "/Users/gse/.pyenv/versions/llm-exercise-3.12.8/lib/python3.12/site-packages/pandas/__init__.py\n"
     ]
    },
    {
     "ename": "FileNotFoundError",
     "evalue": "[Errno 2] No such file or directory: './audio/싼기타_비싼기타.rttm'",
     "output_type": "error",
     "traceback": [
      "\u001B[31m---------------------------------------------------------------------------\u001B[39m",
      "\u001B[31mFileNotFoundError\u001B[39m                         Traceback (most recent call last)",
      "\u001B[36mCell\u001B[39m\u001B[36m \u001B[39m\u001B[32mIn[2]\u001B[39m\u001B[32m, line 6\u001B[39m\n\u001B[32m      3\u001B[39m \u001B[38;5;28mprint\u001B[39m(pd.\u001B[34m__file__\u001B[39m)\n\u001B[32m      4\u001B[39m rttm_path = \u001B[33m\"\u001B[39m\u001B[33m./audio/싼기타_비싼기타.rttm\u001B[39m\u001B[33m\"\u001B[39m\n\u001B[32m----> \u001B[39m\u001B[32m6\u001B[39m df_rttm = \u001B[43mpd\u001B[49m\u001B[43m.\u001B[49m\u001B[43mread_csv\u001B[49m\u001B[43m(\u001B[49m\u001B[43mrttm_path\u001B[49m\u001B[43m,\u001B[49m\u001B[43msep\u001B[49m\u001B[43m=\u001B[49m\u001B[33;43mr\u001B[39;49m\u001B[33;43m'\u001B[39;49m\u001B[33;43m\\\u001B[39;49m\u001B[33;43ms+\u001B[39;49m\u001B[33;43m'\u001B[39;49m\u001B[43m,\u001B[49m\u001B[43mheader\u001B[49m\u001B[43m=\u001B[49m\u001B[38;5;28;43;01mNone\u001B[39;49;00m\u001B[43m,\u001B[49m\u001B[43mnames\u001B[49m\u001B[43m=\u001B[49m\u001B[43m[\u001B[49m\u001B[33;43m'\u001B[39;49m\u001B[33;43mtype\u001B[39;49m\u001B[33;43m'\u001B[39;49m\u001B[43m,\u001B[49m\u001B[33;43m'\u001B[39;49m\u001B[33;43mfile\u001B[39;49m\u001B[33;43m'\u001B[39;49m\u001B[43m,\u001B[49m\u001B[33;43m'\u001B[39;49m\u001B[33;43mchnl\u001B[39;49m\u001B[33;43m'\u001B[39;49m\u001B[43m,\u001B[49m\u001B[33;43m'\u001B[39;49m\u001B[33;43mstart\u001B[39;49m\u001B[33;43m'\u001B[39;49m\u001B[43m,\u001B[49m\u001B[33;43m'\u001B[39;49m\u001B[33;43mduration\u001B[39;49m\u001B[33;43m'\u001B[39;49m\u001B[43m,\u001B[49m\u001B[33;43m'\u001B[39;49m\u001B[33;43mC1\u001B[39;49m\u001B[33;43m'\u001B[39;49m\u001B[43m,\u001B[49m\u001B[33;43m'\u001B[39;49m\u001B[33;43mC2\u001B[39;49m\u001B[33;43m'\u001B[39;49m\u001B[43m,\u001B[49m\u001B[33;43m'\u001B[39;49m\u001B[33;43mspeaker_id\u001B[39;49m\u001B[33;43m'\u001B[39;49m\u001B[43m,\u001B[49m\u001B[33;43m'\u001B[39;49m\u001B[33;43mC3\u001B[39;49m\u001B[33;43m'\u001B[39;49m\u001B[43m,\u001B[49m\u001B[33;43m'\u001B[39;49m\u001B[33;43mC4\u001B[39;49m\u001B[33;43m'\u001B[39;49m\u001B[43m]\u001B[49m\u001B[43m)\u001B[49m\n\u001B[32m      8\u001B[39m display(df_rttm)\n",
      "\u001B[36mFile \u001B[39m\u001B[32m~/.pyenv/versions/llm-exercise-3.12.8/lib/python3.12/site-packages/pandas/io/parsers/readers.py:1026\u001B[39m, in \u001B[36mread_csv\u001B[39m\u001B[34m(filepath_or_buffer, sep, delimiter, header, names, index_col, usecols, dtype, engine, converters, true_values, false_values, skipinitialspace, skiprows, skipfooter, nrows, na_values, keep_default_na, na_filter, verbose, skip_blank_lines, parse_dates, infer_datetime_format, keep_date_col, date_parser, date_format, dayfirst, cache_dates, iterator, chunksize, compression, thousands, decimal, lineterminator, quotechar, quoting, doublequote, escapechar, comment, encoding, encoding_errors, dialect, on_bad_lines, delim_whitespace, low_memory, memory_map, float_precision, storage_options, dtype_backend)\u001B[39m\n\u001B[32m   1013\u001B[39m kwds_defaults = _refine_defaults_read(\n\u001B[32m   1014\u001B[39m     dialect,\n\u001B[32m   1015\u001B[39m     delimiter,\n\u001B[32m   (...)\u001B[39m\u001B[32m   1022\u001B[39m     dtype_backend=dtype_backend,\n\u001B[32m   1023\u001B[39m )\n\u001B[32m   1024\u001B[39m kwds.update(kwds_defaults)\n\u001B[32m-> \u001B[39m\u001B[32m1026\u001B[39m \u001B[38;5;28;01mreturn\u001B[39;00m \u001B[43m_read\u001B[49m\u001B[43m(\u001B[49m\u001B[43mfilepath_or_buffer\u001B[49m\u001B[43m,\u001B[49m\u001B[43m \u001B[49m\u001B[43mkwds\u001B[49m\u001B[43m)\u001B[49m\n",
      "\u001B[36mFile \u001B[39m\u001B[32m~/.pyenv/versions/llm-exercise-3.12.8/lib/python3.12/site-packages/pandas/io/parsers/readers.py:620\u001B[39m, in \u001B[36m_read\u001B[39m\u001B[34m(filepath_or_buffer, kwds)\u001B[39m\n\u001B[32m    617\u001B[39m _validate_names(kwds.get(\u001B[33m\"\u001B[39m\u001B[33mnames\u001B[39m\u001B[33m\"\u001B[39m, \u001B[38;5;28;01mNone\u001B[39;00m))\n\u001B[32m    619\u001B[39m \u001B[38;5;66;03m# Create the parser.\u001B[39;00m\n\u001B[32m--> \u001B[39m\u001B[32m620\u001B[39m parser = \u001B[43mTextFileReader\u001B[49m\u001B[43m(\u001B[49m\u001B[43mfilepath_or_buffer\u001B[49m\u001B[43m,\u001B[49m\u001B[43m \u001B[49m\u001B[43m*\u001B[49m\u001B[43m*\u001B[49m\u001B[43mkwds\u001B[49m\u001B[43m)\u001B[49m\n\u001B[32m    622\u001B[39m \u001B[38;5;28;01mif\u001B[39;00m chunksize \u001B[38;5;129;01mor\u001B[39;00m iterator:\n\u001B[32m    623\u001B[39m     \u001B[38;5;28;01mreturn\u001B[39;00m parser\n",
      "\u001B[36mFile \u001B[39m\u001B[32m~/.pyenv/versions/llm-exercise-3.12.8/lib/python3.12/site-packages/pandas/io/parsers/readers.py:1620\u001B[39m, in \u001B[36mTextFileReader.__init__\u001B[39m\u001B[34m(self, f, engine, **kwds)\u001B[39m\n\u001B[32m   1617\u001B[39m     \u001B[38;5;28mself\u001B[39m.options[\u001B[33m\"\u001B[39m\u001B[33mhas_index_names\u001B[39m\u001B[33m\"\u001B[39m] = kwds[\u001B[33m\"\u001B[39m\u001B[33mhas_index_names\u001B[39m\u001B[33m\"\u001B[39m]\n\u001B[32m   1619\u001B[39m \u001B[38;5;28mself\u001B[39m.handles: IOHandles | \u001B[38;5;28;01mNone\u001B[39;00m = \u001B[38;5;28;01mNone\u001B[39;00m\n\u001B[32m-> \u001B[39m\u001B[32m1620\u001B[39m \u001B[38;5;28mself\u001B[39m._engine = \u001B[38;5;28;43mself\u001B[39;49m\u001B[43m.\u001B[49m\u001B[43m_make_engine\u001B[49m\u001B[43m(\u001B[49m\u001B[43mf\u001B[49m\u001B[43m,\u001B[49m\u001B[43m \u001B[49m\u001B[38;5;28;43mself\u001B[39;49m\u001B[43m.\u001B[49m\u001B[43mengine\u001B[49m\u001B[43m)\u001B[49m\n",
      "\u001B[36mFile \u001B[39m\u001B[32m~/.pyenv/versions/llm-exercise-3.12.8/lib/python3.12/site-packages/pandas/io/parsers/readers.py:1880\u001B[39m, in \u001B[36mTextFileReader._make_engine\u001B[39m\u001B[34m(self, f, engine)\u001B[39m\n\u001B[32m   1878\u001B[39m     \u001B[38;5;28;01mif\u001B[39;00m \u001B[33m\"\u001B[39m\u001B[33mb\u001B[39m\u001B[33m\"\u001B[39m \u001B[38;5;129;01mnot\u001B[39;00m \u001B[38;5;129;01min\u001B[39;00m mode:\n\u001B[32m   1879\u001B[39m         mode += \u001B[33m\"\u001B[39m\u001B[33mb\u001B[39m\u001B[33m\"\u001B[39m\n\u001B[32m-> \u001B[39m\u001B[32m1880\u001B[39m \u001B[38;5;28mself\u001B[39m.handles = \u001B[43mget_handle\u001B[49m\u001B[43m(\u001B[49m\n\u001B[32m   1881\u001B[39m \u001B[43m    \u001B[49m\u001B[43mf\u001B[49m\u001B[43m,\u001B[49m\n\u001B[32m   1882\u001B[39m \u001B[43m    \u001B[49m\u001B[43mmode\u001B[49m\u001B[43m,\u001B[49m\n\u001B[32m   1883\u001B[39m \u001B[43m    \u001B[49m\u001B[43mencoding\u001B[49m\u001B[43m=\u001B[49m\u001B[38;5;28;43mself\u001B[39;49m\u001B[43m.\u001B[49m\u001B[43moptions\u001B[49m\u001B[43m.\u001B[49m\u001B[43mget\u001B[49m\u001B[43m(\u001B[49m\u001B[33;43m\"\u001B[39;49m\u001B[33;43mencoding\u001B[39;49m\u001B[33;43m\"\u001B[39;49m\u001B[43m,\u001B[49m\u001B[43m \u001B[49m\u001B[38;5;28;43;01mNone\u001B[39;49;00m\u001B[43m)\u001B[49m\u001B[43m,\u001B[49m\n\u001B[32m   1884\u001B[39m \u001B[43m    \u001B[49m\u001B[43mcompression\u001B[49m\u001B[43m=\u001B[49m\u001B[38;5;28;43mself\u001B[39;49m\u001B[43m.\u001B[49m\u001B[43moptions\u001B[49m\u001B[43m.\u001B[49m\u001B[43mget\u001B[49m\u001B[43m(\u001B[49m\u001B[33;43m\"\u001B[39;49m\u001B[33;43mcompression\u001B[39;49m\u001B[33;43m\"\u001B[39;49m\u001B[43m,\u001B[49m\u001B[43m \u001B[49m\u001B[38;5;28;43;01mNone\u001B[39;49;00m\u001B[43m)\u001B[49m\u001B[43m,\u001B[49m\n\u001B[32m   1885\u001B[39m \u001B[43m    \u001B[49m\u001B[43mmemory_map\u001B[49m\u001B[43m=\u001B[49m\u001B[38;5;28;43mself\u001B[39;49m\u001B[43m.\u001B[49m\u001B[43moptions\u001B[49m\u001B[43m.\u001B[49m\u001B[43mget\u001B[49m\u001B[43m(\u001B[49m\u001B[33;43m\"\u001B[39;49m\u001B[33;43mmemory_map\u001B[39;49m\u001B[33;43m\"\u001B[39;49m\u001B[43m,\u001B[49m\u001B[43m \u001B[49m\u001B[38;5;28;43;01mFalse\u001B[39;49;00m\u001B[43m)\u001B[49m\u001B[43m,\u001B[49m\n\u001B[32m   1886\u001B[39m \u001B[43m    \u001B[49m\u001B[43mis_text\u001B[49m\u001B[43m=\u001B[49m\u001B[43mis_text\u001B[49m\u001B[43m,\u001B[49m\n\u001B[32m   1887\u001B[39m \u001B[43m    \u001B[49m\u001B[43merrors\u001B[49m\u001B[43m=\u001B[49m\u001B[38;5;28;43mself\u001B[39;49m\u001B[43m.\u001B[49m\u001B[43moptions\u001B[49m\u001B[43m.\u001B[49m\u001B[43mget\u001B[49m\u001B[43m(\u001B[49m\u001B[33;43m\"\u001B[39;49m\u001B[33;43mencoding_errors\u001B[39;49m\u001B[33;43m\"\u001B[39;49m\u001B[43m,\u001B[49m\u001B[43m \u001B[49m\u001B[33;43m\"\u001B[39;49m\u001B[33;43mstrict\u001B[39;49m\u001B[33;43m\"\u001B[39;49m\u001B[43m)\u001B[49m\u001B[43m,\u001B[49m\n\u001B[32m   1888\u001B[39m \u001B[43m    \u001B[49m\u001B[43mstorage_options\u001B[49m\u001B[43m=\u001B[49m\u001B[38;5;28;43mself\u001B[39;49m\u001B[43m.\u001B[49m\u001B[43moptions\u001B[49m\u001B[43m.\u001B[49m\u001B[43mget\u001B[49m\u001B[43m(\u001B[49m\u001B[33;43m\"\u001B[39;49m\u001B[33;43mstorage_options\u001B[39;49m\u001B[33;43m\"\u001B[39;49m\u001B[43m,\u001B[49m\u001B[43m \u001B[49m\u001B[38;5;28;43;01mNone\u001B[39;49;00m\u001B[43m)\u001B[49m\u001B[43m,\u001B[49m\n\u001B[32m   1889\u001B[39m \u001B[43m\u001B[49m\u001B[43m)\u001B[49m\n\u001B[32m   1890\u001B[39m \u001B[38;5;28;01massert\u001B[39;00m \u001B[38;5;28mself\u001B[39m.handles \u001B[38;5;129;01mis\u001B[39;00m \u001B[38;5;129;01mnot\u001B[39;00m \u001B[38;5;28;01mNone\u001B[39;00m\n\u001B[32m   1891\u001B[39m f = \u001B[38;5;28mself\u001B[39m.handles.handle\n",
      "\u001B[36mFile \u001B[39m\u001B[32m~/.pyenv/versions/llm-exercise-3.12.8/lib/python3.12/site-packages/pandas/io/common.py:873\u001B[39m, in \u001B[36mget_handle\u001B[39m\u001B[34m(path_or_buf, mode, encoding, compression, memory_map, is_text, errors, storage_options)\u001B[39m\n\u001B[32m    868\u001B[39m \u001B[38;5;28;01melif\u001B[39;00m \u001B[38;5;28misinstance\u001B[39m(handle, \u001B[38;5;28mstr\u001B[39m):\n\u001B[32m    869\u001B[39m     \u001B[38;5;66;03m# Check whether the filename is to be opened in binary mode.\u001B[39;00m\n\u001B[32m    870\u001B[39m     \u001B[38;5;66;03m# Binary mode does not support 'encoding' and 'newline'.\u001B[39;00m\n\u001B[32m    871\u001B[39m     \u001B[38;5;28;01mif\u001B[39;00m ioargs.encoding \u001B[38;5;129;01mand\u001B[39;00m \u001B[33m\"\u001B[39m\u001B[33mb\u001B[39m\u001B[33m\"\u001B[39m \u001B[38;5;129;01mnot\u001B[39;00m \u001B[38;5;129;01min\u001B[39;00m ioargs.mode:\n\u001B[32m    872\u001B[39m         \u001B[38;5;66;03m# Encoding\u001B[39;00m\n\u001B[32m--> \u001B[39m\u001B[32m873\u001B[39m         handle = \u001B[38;5;28;43mopen\u001B[39;49m\u001B[43m(\u001B[49m\n\u001B[32m    874\u001B[39m \u001B[43m            \u001B[49m\u001B[43mhandle\u001B[49m\u001B[43m,\u001B[49m\n\u001B[32m    875\u001B[39m \u001B[43m            \u001B[49m\u001B[43mioargs\u001B[49m\u001B[43m.\u001B[49m\u001B[43mmode\u001B[49m\u001B[43m,\u001B[49m\n\u001B[32m    876\u001B[39m \u001B[43m            \u001B[49m\u001B[43mencoding\u001B[49m\u001B[43m=\u001B[49m\u001B[43mioargs\u001B[49m\u001B[43m.\u001B[49m\u001B[43mencoding\u001B[49m\u001B[43m,\u001B[49m\n\u001B[32m    877\u001B[39m \u001B[43m            \u001B[49m\u001B[43merrors\u001B[49m\u001B[43m=\u001B[49m\u001B[43merrors\u001B[49m\u001B[43m,\u001B[49m\n\u001B[32m    878\u001B[39m \u001B[43m            \u001B[49m\u001B[43mnewline\u001B[49m\u001B[43m=\u001B[49m\u001B[33;43m\"\u001B[39;49m\u001B[33;43m\"\u001B[39;49m\u001B[43m,\u001B[49m\n\u001B[32m    879\u001B[39m \u001B[43m        \u001B[49m\u001B[43m)\u001B[49m\n\u001B[32m    880\u001B[39m     \u001B[38;5;28;01melse\u001B[39;00m:\n\u001B[32m    881\u001B[39m         \u001B[38;5;66;03m# Binary mode\u001B[39;00m\n\u001B[32m    882\u001B[39m         handle = \u001B[38;5;28mopen\u001B[39m(handle, ioargs.mode)\n",
      "\u001B[31mFileNotFoundError\u001B[39m: [Errno 2] No such file or directory: './audio/싼기타_비싼기타.rttm'"
     ]
    }
   ],
   "execution_count": 2
  },
  {
   "cell_type": "code",
   "id": "efacfbbe3434e950",
   "metadata": {},
   "source": [
    "df_rttm['end'] = df_rttm['start'] + df_rttm['duration']\n",
    "display(df_rttm)"
   ],
   "outputs": [],
   "execution_count": null
  },
  {
   "cell_type": "code",
   "id": "2e71a4b47d53c738",
   "metadata": {},
   "source": [
    "df_rttm['number'] = None\n",
    "df_rttm.at[0,'number'] = 0\n",
    "\n",
    "display(df_rttm)"
   ],
   "outputs": [],
   "execution_count": null
  },
  {
   "cell_type": "code",
   "id": "9b9dad5bfa08a6f3",
   "metadata": {},
   "source": [
    "for i in range(1, len(df_rttm)):\n",
    "    if df_rttm.at[i,\"speaker_id\"] != df_rttm.at[i-1,\"speaker_id\"]:\n",
    "        df_rttm.at[i,\"number\"] = df_rttm.at[i-1,\"number\"] + 1\n",
    "    else :\n",
    "        df_rttm[i,\"speaker_id\"] = df_rttm.at[i-1,\"speaker_id\"]\n",
    "        \n",
    "display(df_rttm.head(10))"
   ],
   "outputs": [],
   "execution_count": null
  },
  {
   "cell_type": "code",
   "id": "442af190-b466-4a61-952d-461537aff203",
   "metadata": {},
   "source": [],
   "outputs": [],
   "execution_count": null
  }
 ],
 "metadata": {
  "kernelspec": {
   "display_name": "Python 3 (ipykernel)",
   "language": "python",
   "name": "python3"
  },
  "language_info": {
   "codemirror_mode": {
    "name": "ipython",
    "version": 3
   },
   "file_extension": ".py",
   "mimetype": "text/x-python",
   "name": "python",
   "nbconvert_exporter": "python",
   "pygments_lexer": "ipython3",
   "version": "3.12.8"
  }
 },
 "nbformat": 4,
 "nbformat_minor": 5
}

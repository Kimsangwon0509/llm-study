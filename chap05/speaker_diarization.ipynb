{
 "cells": [
  {
   "cell_type": "code",
   "id": "initial_id",
   "metadata": {
    "collapsed": true,
    "jupyter": {
     "outputs_hidden": true
    }
   },
   "source": [
    "#from pyannote.metrics.cli import diarization\n",
    "#from rich.jupyter import display\n",
    "%pip install pyannote.audio\n",
    "%pip install numpy==1.26"
   ],
   "outputs": [],
   "execution_count": null
  },
  {
   "metadata": {},
   "cell_type": "code",
   "source": "",
   "id": "f80c6d7318f70aa6",
   "outputs": [],
   "execution_count": null
  },
  {
   "cell_type": "code",
   "id": "a2304734ef7a3f25",
   "metadata": {},
   "source": [
    "# instantiate the pipeline\n",
    "from pyannote.audio import Pipeline\n",
    "import os\n",
    "\n",
    "api_key = os.getenv('HUGGING_FACE_SECRET_KEY')\n",
    "pipeline = Pipeline.from_pretrained(\n",
    "  \"pyannote/speaker-diarization-3.1\",\n",
    "  use_auth_token=\"api_key\")\n",
    "\n",
    "import torch\n",
    "\n",
    "if torch.cuda.is_available():\n",
    "    pipeline.to(torch.device(\"cuda\"))\n",
    "    print('cuda is available')\n",
    "else :\n",
    "    print('cuda is not available')\n",
    "    \n",
    "    \n",
    "# run the pipeline on an audio file\n",
    "#diarization = pipeline(\"audio.wav\")\n",
    "\n",
    "# dump the diarization output to disk using RTTM format\n",
    "#with open(\"audio.rttm\", \"w\") as rttm:\n",
    "#    diarization.write_rttm(rttm)\n"
   ],
   "outputs": [],
   "execution_count": null
  },
  {
   "cell_type": "code",
   "id": "20688c73485a9f7f",
   "metadata": {},
   "source": [
    "from transformers import pipeline\n",
    "\n",
    "# 화자 분리하고 RTTM 파일로 저장하기\n",
    "diarization = pipeline(\"mp3파일넣기\")\n",
    "\n",
    "with open(\"./audio/싼기타_비싼기타.rttm\", \"w\", encoding=\"utf-8\") as f:\n",
    "    diarization.write_rttm(f)"
   ],
   "outputs": [],
   "execution_count": null
  },
  {
   "cell_type": "code",
   "id": "2490560655383bee",
   "metadata": {},
   "source": [
    "%pip install pandas\n",
    "import pandas as pd\n",
    "print(pd.__file__)\n",
    "rttm_path = \"./audio/싼기타_비싼기타.rttm\"\n",
    "\n",
    "df_rttm = pd.read_csv(rttm_path,sep=r'\\s+',header=None,names=['type','file','chnl','start','duration','C1','C2','speaker_id','C3','C4'])\n",
    "\n",
    "display(df_rttm)"
   ],
   "outputs": [],
   "execution_count": null
  },
  {
   "cell_type": "code",
   "id": "efacfbbe3434e950",
   "metadata": {},
   "source": [
    "df_rttm['end'] = df_rttm['start'] + df_rttm['duration']\n",
    "display(df_rttm)"
   ],
   "outputs": [],
   "execution_count": null
  },
  {
   "cell_type": "code",
   "id": "2e71a4b47d53c738",
   "metadata": {},
   "source": [
    "df_rttm['number'] = None\n",
    "df_rttm.at[0,'number'] = 0\n",
    "\n",
    "display(df_rttm)"
   ],
   "outputs": [],
   "execution_count": null
  },
  {
   "cell_type": "code",
   "id": "9b9dad5bfa08a6f3",
   "metadata": {},
   "source": [
    "for i in range(1, len(df_rttm)):\n",
    "    if df_rttm.at[i,\"speaker_id\"] != df_rttm.at[i-1,\"speaker_id\"]:\n",
    "        df_rttm.at[i,\"number\"] = df_rttm.at[i-1,\"number\"] + 1\n",
    "    else :\n",
    "        df_rttm[i,\"speaker_id\"] = df_rttm.at[i-1,\"speaker_id\"]\n",
    "        \n",
    "display(df_rttm.head(10))"
   ],
   "outputs": [],
   "execution_count": null
  },
  {
   "cell_type": "code",
   "id": "442af190-b466-4a61-952d-461537aff203",
   "metadata": {},
   "source": [],
   "outputs": [],
   "execution_count": null
  }
 ],
 "metadata": {
  "kernelspec": {
   "display_name": "Python 3 (ipykernel)",
   "language": "python",
   "name": "python3"
  },
  "language_info": {
   "codemirror_mode": {
    "name": "ipython",
    "version": 3
   },
   "file_extension": ".py",
   "mimetype": "text/x-python",
   "name": "python",
   "nbconvert_exporter": "python",
   "pygments_lexer": "ipython3",
   "version": "3.12.8"
  }
 },
 "nbformat": 4,
 "nbformat_minor": 5
}

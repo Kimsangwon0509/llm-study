{
 "cells": [
  {
   "metadata": {},
   "cell_type": "code",
   "outputs": [],
   "execution_count": null,
   "source": [
    "from openai import OpenAI\n",
    "from dotenv import load_dotenv\n",
    "import os \n",
    "\n",
    "load_dotenv()\n",
    "api_key = os.getenv('OPENAI_API_KEY')\n",
    "client = OpenAI(api_key=api_key)\n"
   ],
   "id": "7a9f7e808b012cd9"
  },
  {
   "metadata": {},
   "cell_type": "code",
   "outputs": [],
   "execution_count": null,
   "source": [
    "auth_file_path = './audio/lsy_audio_2023_58s.mp3'\n",
    "\n",
    "with open(auth_file_path, 'rb') as f:\n",
    "    transcription = client.audio.transcriptions.create(\n",
    "        model=\"whisper-1\",\n",
    "        file=auth_file_path\n",
    "    )\n",
    "    \n",
    "transcription\n",
    "\n",
    "#영어로 번역\n",
    "with open(auth_file_path, 'rb') as f:\n",
    "    translations = client.audio.translations.create(\n",
    "        model=\"whisper-1\",\n",
    "        file=auth_file_path\n",
    "    )\n",
    "    \n",
    "translations"
   ],
   "id": "b8fbe7201b0a2680"
  },
  {
   "metadata": {},
   "cell_type": "code",
   "outputs": [],
   "execution_count": null,
   "source": "",
   "id": "cd6bc986a3930ca1"
  },
  {
   "metadata": {},
   "cell_type": "code",
   "outputs": [],
   "execution_count": null,
   "source": "",
   "id": "9b6b2485c0d8f666"
  }
 ],
 "metadata": {
  "kernelspec": {
   "display_name": "Python 3",
   "language": "python",
   "name": "python3"
  },
  "language_info": {
   "codemirror_mode": {
    "name": "ipython",
    "version": 2
   },
   "file_extension": ".py",
   "mimetype": "text/x-python",
   "name": "python",
   "nbconvert_exporter": "python",
   "pygments_lexer": "ipython2",
   "version": "2.7.6"
  }
 },
 "nbformat": 4,
 "nbformat_minor": 5
}

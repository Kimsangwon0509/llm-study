{
 "cells": [
  {
   "cell_type": "code",
   "id": "initial_id",
   "metadata": {
    "collapsed": true
   },
   "source": [
    "import pandas as pd\n",
    "from IPython.display import display\n",
    "\n",
    "meeting_note_csv_path = './audio/싼기타_비싼기타_final.csv'\n",
    "df_rttm = pd.read_csv(meeting_note_csv_path, sep='|')\n",
    "display(df_rttm)"
   ],
   "outputs": [],
   "execution_count": null
  },
  {
   "metadata": {},
   "cell_type": "code",
   "source": [
    "name_dict = {\n",
    "    \"SPEAKER_00\" : \"AI\" ,\n",
    "    \"SPEAKER_01\" : \"김상원\"\n",
    "}\n",
    "\n",
    "df_rttm[\"name\"] = df_rttm[\"speaker_id\"].apply(lambda x: name_dict[x])\n",
    "\n",
    "display(df_rttm)"
   ],
   "id": "63974ce7bec25d2a",
   "outputs": [],
   "execution_count": null
  },
  {
   "metadata": {},
   "cell_type": "code",
   "source": [
    "meeting_note_txt = df_rttm[['start','end','name','text']].to_json(orient='records', force_ascii=False)\n",
    "print(meeting_note_txt)"
   ],
   "id": "fe1c13840149200f",
   "outputs": [],
   "execution_count": null
  },
  {
   "metadata": {},
   "cell_type": "code",
   "outputs": [],
   "execution_count": null,
   "source": [
    "system_prompt = f'''\n",
    "    너는 회의 내용을 요약하는 봇이다. 아래 회의록을 읽고 , 주요 내용을 요약하라\n",
    "    결과는 마크다운 형식으로 작성한다.\n",
    "    \n",
    "    아래 형식에 맞추어 작성하라\n",
    "    \n",
    "    # 회의 제목\n",
    "    \n",
    "    ## 주요 내용\n",
    "    \n",
    "    ## 참석자별\n",
    "    \n",
    "    ## 결정사항\n",
    "    \n",
    "    ========= 이하 회의록 ======= \n",
    "    {meeting_note_txt}\n",
    "'''\n",
    "\n",
    "from openai import OpenAI, api_key\n",
    "from dotenv import load_dotenv\n",
    "import os\n",
    "\n",
    "load_dotenv()\n",
    "api_key = os.getenv('OPENAI_API_KEY')\n",
    "client = OpenAI(api_key=api_key)\n",
    "\n",
    "response = client.chat.completions.create(\n",
    "    model=\"gpt-4o\",\n",
    "    messages=[\n",
    "        {\"role\": \"system\", \"content\": system_prompt}\n",
    "    ],\n",
    "    temperature=0.1\n",
    ")\n",
    "\n",
    "summary = response.choices[0].message.content\n",
    "summary = summary.strip() #좌우 공백 제거\n",
    "\n",
    "print(summary)\n",
    "\n",
    "with open('audio/guitar_sumaary.md',\"w\", encoding=\"utf-8\") as f:\n",
    "    f.write(summary)"
   ],
   "id": "b38aeb8ca48143a1"
  }
 ],
 "metadata": {
  "kernelspec": {
   "display_name": "Python 3",
   "language": "python",
   "name": "python3"
  },
  "language_info": {
   "codemirror_mode": {
    "name": "ipython",
    "version": 2
   },
   "file_extension": ".py",
   "mimetype": "text/x-python",
   "name": "python",
   "nbconvert_exporter": "python",
   "pygments_lexer": "ipython2",
   "version": "2.7.6"
  }
 },
 "nbformat": 4,
 "nbformat_minor": 5
}
